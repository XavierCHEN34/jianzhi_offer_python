{
 "cells": [
  {
   "cell_type": "markdown",
   "metadata": {},
   "source": [
    "# 树的子结构"
   ]
  },
  {
   "cell_type": "markdown",
   "metadata": {},
   "source": [
    "输入两棵二叉树A，B，判断B是不是A的子结构。（ps：我们约定空树不是任意一个树的子结构）"
   ]
  },
  {
   "cell_type": "markdown",
   "metadata": {},
   "source": [
    "递归左右子树。需要两层递归，第一层递归的是A树的结构，遍历A的每个定点形成的子树，第二层递归A B的结构，检查B是否为A的同根子树\n",
    "\n",
    "*要注意树的子结构不是说 子树"
   ]
  },
  {
   "cell_type": "code",
   "execution_count": 2,
   "metadata": {},
   "outputs": [],
   "source": [
    "# -*- coding:utf-8 -*-\n",
    "# class TreeNode:\n",
    "#     def __init__(self, x):\n",
    "#         self.val = x\n",
    "#         self.left = None\n",
    "#         self.right = None\n",
    "class Solution:\n",
    "    def HasSubtree(self, pRoot1, pRoot2):\n",
    "        # write code here\n",
    "        if pRoot1 == None or pRoot2 == None:\n",
    "            return False\n",
    "        return self.isSubtree(pRoot1, pRoot2)\n",
    "\n",
    "    def isSubtree(self, p1, p2):\n",
    "        if p1 == None:\n",
    "            return False\n",
    "        if self.is_same_tree(p1,p2):\n",
    "            return True\n",
    "        else:\n",
    "            return self.isSubtree(p1.left, p2) or self.isSubtree(p1.right, p2)\n",
    "            \n",
    "    def is_part_tree(self,p1,p2):\n",
    "        if  p2 == None:\n",
    "            return True\n",
    "        if (p1 == None  and p2 != None) or (p2 == None  and p1 != None) :\n",
    "            return False\n",
    "        if p1.val != p2.val:\n",
    "            return False\n",
    "        return self.is_same_tree(p1.left, p2.left) and self.is_same_tree(p1.right, p2.right) "
   ]
  },
  {
   "cell_type": "code",
   "execution_count": 1,
   "metadata": {},
   "outputs": [],
   "source": [
    "class Solution:\n",
    "    def HasSubtree(self, pRoot1, pRoot2):\n",
    "        # write code here\n",
    "        if pRoot1 == None or pRoot2 == None:\n",
    "            return False\n",
    "        return self.isSubtree(pRoot1, pRoot2)\n",
    "\n",
    "    def isSubtree(self, p1, p2):\n",
    "        if p2 == None:\n",
    "            return True\n",
    "        if p1 == None:\n",
    "            return p1 == p2\n",
    "        res = False\n",
    "        if p1.val == p2.val:\n",
    "            res = self.isSubtree(p1.left, p2.left) and self.isSubtree(p1.right, p2.right)\n",
    "        return res or self.isSubtree(p1.left, p2) or self.isSubtree(p1.right, p2)"
   ]
  },
  {
   "cell_type": "code",
   "execution_count": null,
   "metadata": {},
   "outputs": [],
   "source": []
  },
  {
   "cell_type": "code",
   "execution_count": null,
   "metadata": {},
   "outputs": [],
   "source": []
  },
  {
   "cell_type": "code",
   "execution_count": null,
   "metadata": {},
   "outputs": [],
   "source": []
  }
 ],
 "metadata": {
  "kernelspec": {
   "display_name": "Python 3",
   "language": "python",
   "name": "python3"
  },
  "language_info": {
   "codemirror_mode": {
    "name": "ipython",
    "version": 3
   },
   "file_extension": ".py",
   "mimetype": "text/x-python",
   "name": "python",
   "nbconvert_exporter": "python",
   "pygments_lexer": "ipython3",
   "version": "3.7.1"
  }
 },
 "nbformat": 4,
 "nbformat_minor": 2
}
