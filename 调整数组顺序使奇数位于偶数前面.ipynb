{
 "cells": [
  {
   "cell_type": "markdown",
   "metadata": {},
   "source": [
    "# 调整数组顺序使奇数位于偶数前面"
   ]
  },
  {
   "cell_type": "markdown",
   "metadata": {},
   "source": [
    "输入一个整数数组，实现一个函数来调整该数组中数字的顺序，使得所有的奇数位于数组的前半部分，所有的偶数位于数组的后半部分，并保证奇数和奇数，偶数和偶数之间的相对位置不变。"
   ]
  },
  {
   "cell_type": "markdown",
   "metadata": {},
   "source": [
    "分析：最简单的方法是开辟2个新的数组，分别用来存储奇数和偶数"
   ]
  },
  {
   "cell_type": "code",
   "execution_count": 2,
   "metadata": {},
   "outputs": [],
   "source": [
    "class Solution:\n",
    "    def reOrderArray(self, array):\n",
    "        odd, pair = [],[]\n",
    "        for i in array:\n",
    "            if i % 2 == 1:\n",
    "                odd.append(i)\n",
    "            else:\n",
    "                pair.append(i)\n",
    "        return odd + pair\n",
    "        # write code here"
   ]
  },
  {
   "cell_type": "markdown",
   "metadata": {},
   "source": [
    "其实如果不要求保持原来的顺序，就可以使用快排"
   ]
  },
  {
   "cell_type": "code",
   "execution_count": 4,
   "metadata": {},
   "outputs": [
    {
     "name": "stdout",
     "output_type": "stream",
     "text": [
      "[8, 2, 6, 4, 1, 5, 7, 3]\n"
     ]
    }
   ],
   "source": [
    "def rerange(lst):\n",
    "    pivot = lst[0]\n",
    "    i,j = 0, len(lst)-1\n",
    "    while i<j:\n",
    "        while i < j and lst[j] % 2 == 1:\n",
    "            j -= 1\n",
    "        if i>=j : return \n",
    "        lst[i] = lst[j]\n",
    "        i+= 1\n",
    "        \n",
    "        while i<j and lst[i] % 2 == 0:\n",
    "            i+=1\n",
    "        if i >= j: return \n",
    "        lst[j] = lst[i]\n",
    "        j -=1\n",
    "    lst[i] = pivot\n",
    "\n",
    "a  = [1,2,3,4,5,6,7,8]\n",
    "rerange(a)\n",
    "print(a)"
   ]
  },
  {
   "cell_type": "code",
   "execution_count": null,
   "metadata": {},
   "outputs": [],
   "source": []
  }
 ],
 "metadata": {
  "kernelspec": {
   "display_name": "Python 3",
   "language": "python",
   "name": "python3"
  },
  "language_info": {
   "codemirror_mode": {
    "name": "ipython",
    "version": 3
   },
   "file_extension": ".py",
   "mimetype": "text/x-python",
   "name": "python",
   "nbconvert_exporter": "python",
   "pygments_lexer": "ipython3",
   "version": "3.7.1"
  }
 },
 "nbformat": 4,
 "nbformat_minor": 2
}
