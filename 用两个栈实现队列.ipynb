{
 "cells": [
  {
   "cell_type": "markdown",
   "metadata": {},
   "source": [
    "# 用两个栈实现队列"
   ]
  },
  {
   "cell_type": "markdown",
   "metadata": {},
   "source": [
    "用两个栈来实现一个队列，完成队列的Push和Pop操作。 队列中的元素为int类型。"
   ]
  },
  {
   "cell_type": "markdown",
   "metadata": {},
   "source": [
    "分析： 最基本解法为，用一个栈来储存数据，另外一个栈做缓存区\n",
    "\n",
    "在push的时候，栈和队列是一样的；\n",
    "\n",
    "在pop的时候，要求把栈底的数据取出来，于是先把栈中的数据全都倒进另外一个缓存栈中，然后把缓存栈的最上面一个数据pop出来，最后把缓存栈的数据倒回原来的栈"
   ]
  },
  {
   "cell_type": "code",
   "execution_count": 16,
   "metadata": {},
   "outputs": [],
   "source": [
    "class Solution:\n",
    "    def __init__(self):\n",
    "        self.s1 = []\n",
    "        self.s2 = []\n",
    "    \n",
    "    def push(self, node):\n",
    "        self.s1.append(node)\n",
    "        # write code here\n",
    "    def pop(self):\n",
    "        while len(self.s1):\n",
    "            \n",
    "            a = self.s1.pop()\n",
    "            self.s2.append(a)\n",
    "        b = self.s2.pop()\n",
    "        while len(self.s2):\n",
    "            a = self.s2.pop()\n",
    "            self.s1.append(a)\n",
    "           \n",
    "        return b"
   ]
  },
  {
   "cell_type": "markdown",
   "metadata": {},
   "source": [
    "更好的思路： 不用倒来倒去，直接把s2当做pop的存储区，s1只用作入栈的存储区"
   ]
  },
  {
   "cell_type": "code",
   "execution_count": 18,
   "metadata": {},
   "outputs": [],
   "source": [
    "class Solution:\n",
    "    def __init__(self):\n",
    "        self.s1 = []\n",
    "        self.s2 = []\n",
    "    \n",
    "    def push(self, node):\n",
    "        self.s1.append(node)\n",
    "\n",
    "    def pop(self):\n",
    "        if len(self.s2):\n",
    "            return self.s2.pop()\n",
    "        else:\n",
    "            while len(self.s1):\n",
    "                self.s2.append(self.s1.pop())\n",
    "            return self.s2.pop()"
   ]
  },
  {
   "cell_type": "code",
   "execution_count": null,
   "metadata": {},
   "outputs": [],
   "source": []
  }
 ],
 "metadata": {
  "kernelspec": {
   "display_name": "Python 3",
   "language": "python",
   "name": "python3"
  },
  "language_info": {
   "codemirror_mode": {
    "name": "ipython",
    "version": 3
   },
   "file_extension": ".py",
   "mimetype": "text/x-python",
   "name": "python",
   "nbconvert_exporter": "python",
   "pygments_lexer": "ipython3",
   "version": "3.7.1"
  }
 },
 "nbformat": 4,
 "nbformat_minor": 2
}
