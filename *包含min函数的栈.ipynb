{
 "cells": [
  {
   "cell_type": "markdown",
   "metadata": {},
   "source": [
    "# 包含min函数的栈"
   ]
  },
  {
   "cell_type": "markdown",
   "metadata": {},
   "source": [
    "定义栈的数据结构，请在该类型中实现一个能够得到栈中所含最小元素的min函数（时间复杂度应为O（1））。"
   ]
  },
  {
   "cell_type": "markdown",
   "metadata": {},
   "source": [
    "分析：需要加入一个辅助栈，每次压进去当前最小的值"
   ]
  },
  {
   "cell_type": "code",
   "execution_count": 6,
   "metadata": {},
   "outputs": [],
   "source": [
    "# -*- coding:utf-8 -*-\n",
    "class Solution:\n",
    "    def __init__(self):\n",
    "        self.stack = []\n",
    "        self.min_stack = []\n",
    "    \n",
    "    def push(self, node):\n",
    "        self.stack.append(node)\n",
    "        if self.min_stack == []:\n",
    "            self.min_stack.append(node)\n",
    "        else:\n",
    "            current_min = self.min_stack[-1]\n",
    "            if node >= current_min:\n",
    "                self.min_stack.append(current_min)\n",
    "            else:\n",
    "                self.min_stack.append(node)\n",
    "        return self.stack\n",
    "        # write code here\n",
    "    def pop(self):\n",
    "        self.min_stack.pop()\n",
    "        return self.stack.pop()\n",
    "        # write code here\n",
    "    def top(self):\n",
    "        return self.stack[-1]\n",
    "        # write code here\n",
    "    def min(self):\n",
    "        return self.min_stack[-1]"
   ]
  },
  {
   "cell_type": "code",
   "execution_count": 7,
   "metadata": {},
   "outputs": [
    {
     "name": "stdout",
     "output_type": "stream",
     "text": [
      "1\n"
     ]
    }
   ],
   "source": [
    "s = Solution()\n",
    "s.push(2)\n",
    "s.push(1)\n",
    "s.push(3)\n",
    "print(s.min())"
   ]
  },
  {
   "cell_type": "code",
   "execution_count": null,
   "metadata": {},
   "outputs": [],
   "source": []
  },
  {
   "cell_type": "code",
   "execution_count": null,
   "metadata": {},
   "outputs": [],
   "source": []
  },
  {
   "cell_type": "code",
   "execution_count": null,
   "metadata": {},
   "outputs": [],
   "source": []
  },
  {
   "cell_type": "code",
   "execution_count": null,
   "metadata": {},
   "outputs": [],
   "source": []
  }
 ],
 "metadata": {
  "kernelspec": {
   "display_name": "Python 3",
   "language": "python",
   "name": "python3"
  },
  "language_info": {
   "codemirror_mode": {
    "name": "ipython",
    "version": 3
   },
   "file_extension": ".py",
   "mimetype": "text/x-python",
   "name": "python",
   "nbconvert_exporter": "python",
   "pygments_lexer": "ipython3",
   "version": "3.7.1"
  }
 },
 "nbformat": 4,
 "nbformat_minor": 2
}
