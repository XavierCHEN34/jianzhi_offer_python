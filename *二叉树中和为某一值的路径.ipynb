{
 "cells": [
  {
   "cell_type": "markdown",
   "metadata": {},
   "source": [
    "# 二叉树中和为某一值的路径"
   ]
  },
  {
   "cell_type": "markdown",
   "metadata": {},
   "source": [
    "输入一颗二叉树的跟节点和一个整数，打印出二叉树中结点值的和为输入整数的所有路径。路径定义为从树的根结点开始往下一直到叶结点所经过的结点形成一条路径。(注意: 在返回值的list中，数组长度大的数组靠前)"
   ]
  },
  {
   "cell_type": "markdown",
   "metadata": {},
   "source": [
    "分析： DFS如果用非递归方法，则需要记录每个节点的状态比较麻烦，而且无法自动满足“在返回值的list中，数组长度大的数组靠前”，于是用递归方法， 前序递归的顺序就是DFS的顺序"
   ]
  },
  {
   "cell_type": "code",
   "execution_count": 1,
   "metadata": {},
   "outputs": [],
   "source": [
    "class Solution:\n",
    "    # 返回二维列表，内部每个列表表示找到的路径\n",
    "    def FindPath(self, root, expectNumber):\n",
    "        self.routes = []\n",
    "        if root == None:\n",
    "            return []\n",
    "        else:\n",
    "            self.DFS(root, [root.val], expectNumber )\n",
    "            return self.routes\n",
    "     \n",
    "    def DFS(self, root, route, expectNumber ):\n",
    "        if root.left == None and root.right == None and expectNumber == sum(route):\n",
    "            self.routes.append(route)\n",
    "        if root.left:\n",
    "            self.DFS(root.left, route + [root.left.val], expectNumber)\n",
    "        if root.right:\n",
    "            self.DFS(root.right, route + [root.right.val], expectNumber)"
   ]
  },
  {
   "cell_type": "markdown",
   "metadata": {},
   "source": [
    "也可以每次减去val"
   ]
  },
  {
   "cell_type": "code",
   "execution_count": 2,
   "metadata": {},
   "outputs": [],
   "source": [
    "class Solution:\n",
    "    # 返回二维列表，内部每个列表表示找到的路径\n",
    "    def FindPath(self, root, expectNumber):\n",
    "        self.routes = []\n",
    "        if root == None:\n",
    "            return []\n",
    "        else:\n",
    "            self.DFS(root, [root.val], expectNumber )\n",
    "            return self.routes\n",
    "     \n",
    "    def DFS(self, root, route, expectNumber ):\n",
    "        expectNumber -= root.val\n",
    "        if root.left == None and root.right == None and  expectNumber == 0 :\n",
    "            self.routes.append(route)\n",
    "        if root.left:\n",
    "            self.DFS(root.left, route + [root.left.val], expectNumber)\n",
    "        if root.right:\n",
    "            self.DFS(root.right, route + [root.right.val], expectNumber)\n",
    "        "
   ]
  },
  {
   "cell_type": "markdown",
   "metadata": {},
   "source": [
    "优化：可以控制 如果到了某个节点，值已经超过了目标值，那么就不用继续下去了"
   ]
  },
  {
   "cell_type": "code",
   "execution_count": 3,
   "metadata": {},
   "outputs": [],
   "source": [
    "class Solution:\n",
    "    # 返回二维列表，内部每个列表表示找到的路径\n",
    "    def FindPath(self, root, expectNumber):\n",
    "        self.routes = []\n",
    "        if root == None:\n",
    "            return []\n",
    "        else:\n",
    "            self.DFS(root, [root.val], expectNumber )\n",
    "            return self.routes\n",
    "     \n",
    "    def DFS(self, root, route, expectNumber ):\n",
    "        if root.left == None and root.right == None and expectNumber == sum(route):\n",
    "            self.routes.append(route)\n",
    "        if root.left   and  expectNumber > sum(route):\n",
    "        #if root.left:\n",
    "            self.DFS(root.left, route + [root.left.val], expectNumber)\n",
    "        if root.right  and expectNumber > sum(route):\n",
    "        #if root.right:\n",
    "            self.DFS(root.right, route + [root.right.val], expectNumber)"
   ]
  },
  {
   "cell_type": "code",
   "execution_count": null,
   "metadata": {},
   "outputs": [],
   "source": []
  }
 ],
 "metadata": {
  "kernelspec": {
   "display_name": "Python 3",
   "language": "python",
   "name": "python3"
  },
  "language_info": {
   "codemirror_mode": {
    "name": "ipython",
    "version": 3
   },
   "file_extension": ".py",
   "mimetype": "text/x-python",
   "name": "python",
   "nbconvert_exporter": "python",
   "pygments_lexer": "ipython3",
   "version": "3.7.1"
  }
 },
 "nbformat": 4,
 "nbformat_minor": 2
}
