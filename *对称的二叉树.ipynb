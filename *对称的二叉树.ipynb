{
 "cells": [
  {
   "cell_type": "markdown",
   "metadata": {},
   "source": [
    "# 对称的二叉树"
   ]
  },
  {
   "cell_type": "markdown",
   "metadata": {},
   "source": [
    "请实现一个函数，用来判断一颗二叉树是不是对称的。注意，如果一个二叉树同此二叉树的镜像是同样的，定义其为对称的。"
   ]
  },
  {
   "cell_type": "markdown",
   "metadata": {},
   "source": [
    "分析：逐层检查是否对称，注意空节点也需要标记"
   ]
  },
  {
   "cell_type": "code",
   "execution_count": 1,
   "metadata": {},
   "outputs": [],
   "source": [
    "class Solution:\n",
    "    def isSymmetrical(self, pRoot):\n",
    "        if not pRoot:\n",
    "            return True\n",
    "        row_node = [pRoot]\n",
    "        row_val = [ pRoot.val]\n",
    "        while row_val.count('#') < len(row_val):\n",
    "            row_node_new = []\n",
    "            for node in row_node:\n",
    "                if node:\n",
    "                    row_node_new.append( node.left )\n",
    "                    row_node_new.append( node.right)\n",
    "                if not node:\n",
    "                    row_node_new.append( None )\n",
    "                    row_node_new.append( None )\n",
    "            row_node = row_node_new\n",
    "                \n",
    "            row_val_new = []\n",
    "            for node in row_node:\n",
    "                if node:\n",
    "                    row_val_new.append(node.val)\n",
    "                else:\n",
    "                    row_val_new.append('#')\n",
    "            row_val = row_val_new\n",
    "            if row_val[::-1] != row_val:\n",
    "                return False\n",
    "        return True"
   ]
  },
  {
   "cell_type": "code",
   "execution_count": null,
   "metadata": {},
   "outputs": [],
   "source": []
  }
 ],
 "metadata": {
  "kernelspec": {
   "display_name": "Python 3",
   "language": "python",
   "name": "python3"
  },
  "language_info": {
   "codemirror_mode": {
    "name": "ipython",
    "version": 3
   },
   "file_extension": ".py",
   "mimetype": "text/x-python",
   "name": "python",
   "nbconvert_exporter": "python",
   "pygments_lexer": "ipython3",
   "version": "3.7.1"
  }
 },
 "nbformat": 4,
 "nbformat_minor": 2
}
