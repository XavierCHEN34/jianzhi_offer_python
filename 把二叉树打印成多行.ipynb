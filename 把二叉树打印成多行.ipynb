{
 "cells": [
  {
   "cell_type": "markdown",
   "metadata": {},
   "source": [
    "# 把二叉树打印成多行"
   ]
  },
  {
   "cell_type": "markdown",
   "metadata": {},
   "source": [
    "从上到下按层打印二叉树，同一层结点从左至右输出。每一层输出一行。"
   ]
  },
  {
   "cell_type": "markdown",
   "metadata": {},
   "source": [
    "分析: BFS把每行的节点存在列表里面，然后遍历列表"
   ]
  },
  {
   "cell_type": "code",
   "execution_count": 2,
   "metadata": {},
   "outputs": [],
   "source": [
    "class Solution:\n",
    "    # 返回二维列表[[1,2],[4,5]]\n",
    "    def Print(self, pRoot):\n",
    "        if pRoot == None:\n",
    "            return []\n",
    "        q = [pRoot]\n",
    "        res = [[i.val for i in q]]\n",
    "        while len(q):\n",
    "            n_q = []\n",
    "            for node in q:\n",
    "                if node.left:\n",
    "                    n_q.append(node.left)\n",
    "                if node.right:\n",
    "                    n_q.append(node.right)\n",
    "            if n_q:\n",
    "                res.append([i.val for i in n_q])\n",
    "            q = n_q\n",
    "        return res"
   ]
  },
  {
   "cell_type": "code",
   "execution_count": null,
   "metadata": {},
   "outputs": [],
   "source": []
  },
  {
   "cell_type": "code",
   "execution_count": null,
   "metadata": {},
   "outputs": [],
   "source": []
  }
 ],
 "metadata": {
  "kernelspec": {
   "display_name": "Python 3",
   "language": "python",
   "name": "python3"
  },
  "language_info": {
   "codemirror_mode": {
    "name": "ipython",
    "version": 3
   },
   "file_extension": ".py",
   "mimetype": "text/x-python",
   "name": "python",
   "nbconvert_exporter": "python",
   "pygments_lexer": "ipython3",
   "version": "3.7.1"
  }
 },
 "nbformat": 4,
 "nbformat_minor": 2
}
