{
 "cells": [
  {
   "cell_type": "markdown",
   "metadata": {},
   "source": [
    "# 矩阵中的路径"
   ]
  },
  {
   "cell_type": "markdown",
   "metadata": {},
   "source": [
    "请设计一个函数，用来判断在一个矩阵中是否存在一条包含某字符串所有字符的路径。路径可以从矩阵中的任意一个格子开始，每一步可以在矩阵中向左，向右，向上，向下移动一个格子。如果一条路径经过了矩阵中的某一个格子，则之后不能再次进入这个格子。 例如 a b c e s f c s a d e e 这样的3 X 4 矩阵中包含一条字符串\"bcced\"的路径，但是矩阵中不包含\"abcb\"路径，因为字符串的第一个字符b占据了矩阵中的第一行第二个格子之后，路径不能再次进入该格子。"
   ]
  },
  {
   "cell_type": "markdown",
   "metadata": {},
   "source": [
    "分析：这种就是状态空间搜索，用递归函数"
   ]
  },
  {
   "cell_type": "code",
   "execution_count": 59,
   "metadata": {},
   "outputs": [],
   "source": [
    "class Solution:\n",
    "    def hasPath(self, matrix, rows, cols, path):\n",
    "        self.rows = rows\n",
    "        self.cols = cols\n",
    "        self.path = path\n",
    "        self.res = []\n",
    "        \n",
    "        \n",
    "        str_matrix = [  [0]*cols for i in range(rows) ]\n",
    "        for i in range(rows):\n",
    "            for j in range(cols):\n",
    "                str_matrix[i][j] = matrix[  i * cols + j ]\n",
    "        self.str_matrix = str_matrix        \n",
    "        \n",
    "        states = []\n",
    "        for i in range(rows):\n",
    "            for j in range(cols):\n",
    "                state = []\n",
    "                if str_matrix[i][j] == path[0]:\n",
    "                    state.append( (i,j) )\n",
    "                    states.append(state)\n",
    "        if not len(states):\n",
    "            return False\n",
    "        else:\n",
    "            for state in states:\n",
    "                self.DFS(state)\n",
    "        return len(self.res)\n",
    "                \n",
    "    def DFS(self, state):\n",
    "        step = len(state)\n",
    "        if step == len(self.path):\n",
    "            self.res.append(state)\n",
    "            return \n",
    "        states = []\n",
    "        i, j = state[-1]\n",
    "        for position in [ (i-1,j),(i+1,j),(i,j-1),(i,j+1) ]:\n",
    "            next_i,next_j = position\n",
    "            if position in state:\n",
    "                continue\n",
    "            if next_i < 0 or next_i >= self.rows or next_j <0 or next_j >= self.cols:\n",
    "                continue\n",
    "                \n",
    "            if self.str_matrix[next_i][next_j] == self.path[step]:\n",
    "                new_state =  state + [(next_i,next_j)] \n",
    "                states.append(new_state)\n",
    "        if not len(states):\n",
    "            return False\n",
    "        else:\n",
    "            for state in states:\n",
    "                self.DFS(state)"
   ]
  },
  {
   "cell_type": "code",
   "execution_count": 60,
   "metadata": {},
   "outputs": [
    {
     "name": "stdout",
     "output_type": "stream",
     "text": [
      "1\n",
      "[[(0, 0), (0, 1), (0, 2), (1, 2), (2, 2), (2, 1)]]\n"
     ]
    }
   ],
   "source": [
    "s = Solution()\n",
    "a = s.hasPath(\"ABCESFCSADEE\",3,4,\"ABCCED\")\n",
    "print(a)\n",
    "print(s.res)"
   ]
  },
  {
   "cell_type": "code",
   "execution_count": null,
   "metadata": {},
   "outputs": [],
   "source": []
  }
 ],
 "metadata": {
  "kernelspec": {
   "display_name": "Python 3",
   "language": "python",
   "name": "python3"
  },
  "language_info": {
   "codemirror_mode": {
    "name": "ipython",
    "version": 3
   },
   "file_extension": ".py",
   "mimetype": "text/x-python",
   "name": "python",
   "nbconvert_exporter": "python",
   "pygments_lexer": "ipython3",
   "version": "3.7.1"
  }
 },
 "nbformat": 4,
 "nbformat_minor": 2
}
