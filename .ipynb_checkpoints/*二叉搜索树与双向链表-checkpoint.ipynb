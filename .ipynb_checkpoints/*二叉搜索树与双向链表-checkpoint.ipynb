{
 "cells": [
  {
   "cell_type": "markdown",
   "metadata": {},
   "source": [
    "二叉搜索树与双向链表"
   ]
  },
  {
   "cell_type": "markdown",
   "metadata": {},
   "source": [
    "\n",
    "输入一棵二叉搜索树，将该二叉搜索树转换成一个排序的双向链表。要求不能创建任何新的结点，只能调整树中结点指针的指向。"
   ]
  },
  {
   "cell_type": "markdown",
   "metadata": {},
   "source": [
    "中序遍历，没看懂题目，直接看的答案"
   ]
  },
  {
   "cell_type": "code",
   "execution_count": 1,
   "metadata": {},
   "outputs": [],
   "source": [
    "class Solution:\n",
    "    def Convert(self, pRootOfTree):\n",
    "        if not pRootOfTree:\n",
    "            return None\n",
    "         \n",
    "        p = pRootOfTree\n",
    "         \n",
    "        stack = []\n",
    "        resStack = []\n",
    "         \n",
    "        while p or stack:\n",
    "            if p:\n",
    "                stack.append(p)\n",
    "                p = p.left\n",
    "            else:\n",
    "                node = stack.pop()\n",
    "                resStack.append(node)\n",
    "                p = node.right\n",
    "             \n",
    "        resP = resStack[0]\n",
    "        while resStack:\n",
    "            top = resStack.pop(0)\n",
    "            if resStack:\n",
    "                top.right = resStack[0]\n",
    "                resStack[0].left = top\n",
    "         \n",
    "        return resP"
   ]
  },
  {
   "cell_type": "code",
   "execution_count": null,
   "metadata": {},
   "outputs": [],
   "source": []
  }
 ],
 "metadata": {
  "kernelspec": {
   "display_name": "Python 3",
   "language": "python",
   "name": "python3"
  },
  "language_info": {
   "codemirror_mode": {
    "name": "ipython",
    "version": 3
   },
   "file_extension": ".py",
   "mimetype": "text/x-python",
   "name": "python",
   "nbconvert_exporter": "python",
   "pygments_lexer": "ipython3",
   "version": "3.7.1"
  }
 },
 "nbformat": 4,
 "nbformat_minor": 2
}
