{
 "cells": [
  {
   "cell_type": "markdown",
   "metadata": {},
   "source": [
    "# 按之字形顺序打印二叉树"
   ]
  },
  {
   "cell_type": "markdown",
   "metadata": {},
   "source": [
    "请实现一个函数按照之字形打印二叉树，即第一行按照从左到右的顺序打印，第二层按照从右至左的顺序打印，第三行按照从左到右的顺序打印，其他行以此类推。"
   ]
  },
  {
   "cell_type": "markdown",
   "metadata": {},
   "source": [
    "BFS"
   ]
  },
  {
   "cell_type": "code",
   "execution_count": 1,
   "metadata": {},
   "outputs": [],
   "source": [
    "class Solution:\n",
    "    def Print(self, pRoot):\n",
    "        if not pRoot :\n",
    "            return []\n",
    "        res = []\n",
    "        row = []\n",
    "        row.append(pRoot)\n",
    "        direction = True\n",
    "        while len(row):\n",
    "            if direction:\n",
    "                res.append([node.val for node in row])\n",
    "            else:\n",
    "                res.append([node.val for node in row][::-1])\n",
    "                \n",
    "            direction = not direction\n",
    "            n_row = []\n",
    "            for node in row:\n",
    "                if node.left:\n",
    "                    n_row.append(node.left)\n",
    "                if node.right:\n",
    "                    n_row.append(node.right)\n",
    "            row = n_row\n",
    "        return res "
   ]
  },
  {
   "cell_type": "code",
   "execution_count": null,
   "metadata": {},
   "outputs": [],
   "source": []
  }
 ],
 "metadata": {
  "kernelspec": {
   "display_name": "Python 3",
   "language": "python",
   "name": "python3"
  },
  "language_info": {
   "codemirror_mode": {
    "name": "ipython",
    "version": 3
   },
   "file_extension": ".py",
   "mimetype": "text/x-python",
   "name": "python",
   "nbconvert_exporter": "python",
   "pygments_lexer": "ipython3",
   "version": "3.7.1"
  }
 },
 "nbformat": 4,
 "nbformat_minor": 2
}
