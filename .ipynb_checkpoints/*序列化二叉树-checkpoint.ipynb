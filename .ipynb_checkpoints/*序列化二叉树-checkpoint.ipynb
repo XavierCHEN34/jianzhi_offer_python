{
 "cells": [
  {
   "cell_type": "markdown",
   "metadata": {},
   "source": [
    "# 序列化二叉树"
   ]
  },
  {
   "cell_type": "markdown",
   "metadata": {},
   "source": [
    "请实现两个函数，分别用来序列化和反序列化二叉树"
   ]
  },
  {
   "cell_type": "markdown",
   "metadata": {},
   "source": [
    "递归实现"
   ]
  },
  {
   "cell_type": "code",
   "execution_count": 2,
   "metadata": {},
   "outputs": [],
   "source": [
    "class Solution:\n",
    "    def Serialize(self, root):\n",
    "        # write code here\n",
    "        if root == None:\n",
    "            # return \".\"\n",
    "            return [\".\"]\n",
    "        nodes_list = [[root]]\n",
    "        result = []\n",
    "        while nodes_list:\n",
    "            current_nodes = nodes_list[0]\n",
    "            nodes_list = nodes_list[1:]\n",
    "            new_nodes = []\n",
    "            flag = False\n",
    "            # 如果当前层的节点全是None，那就结束，返回\n",
    "            for node in current_nodes:\n",
    "                if node != None:\n",
    "                    flag = True\n",
    "                    break\n",
    "            if flag != True:\n",
    "                return result\n",
    "            while current_nodes:\n",
    "                if current_nodes[0] != None:\n",
    "                    result.append(current_nodes[0].val)\n",
    "                    new_nodes.append(current_nodes[0].left)\n",
    "                    new_nodes.append(current_nodes[0].right)\n",
    "                else:\n",
    "                    result.append(\".\")\n",
    "                    new_nodes.append(None)\n",
    "                    new_nodes.append(None)\n",
    "                current_nodes = current_nodes[1:]\n",
    "            if new_nodes:\n",
    "                nodes_list.append(new_nodes)\n",
    "        return result\n",
    " \n",
    "    def Deserialize(self, s, idx=0):\n",
    "        if idx >= len(s):\n",
    "            return None\n",
    "        if s[idx] == '.':\n",
    "            return None\n",
    "        root = TreeNode(int(s[idx]))\n",
    "        root.left = self.Deserialize(s, idx*2+1)\n",
    "        root.right = self.Deserialize(s, idx*2+2)\n",
    "        return root"
   ]
  },
  {
   "cell_type": "code",
   "execution_count": null,
   "metadata": {},
   "outputs": [],
   "source": []
  }
 ],
 "metadata": {
  "kernelspec": {
   "display_name": "Python 3",
   "language": "python",
   "name": "python3"
  },
  "language_info": {
   "codemirror_mode": {
    "name": "ipython",
    "version": 3
   },
   "file_extension": ".py",
   "mimetype": "text/x-python",
   "name": "python",
   "nbconvert_exporter": "python",
   "pygments_lexer": "ipython3",
   "version": "3.7.1"
  }
 },
 "nbformat": 4,
 "nbformat_minor": 2
}
