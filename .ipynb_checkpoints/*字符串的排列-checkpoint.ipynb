{
 "cells": [
  {
   "cell_type": "markdown",
   "metadata": {},
   "source": [
    "# 字符串的排列"
   ]
  },
  {
   "cell_type": "markdown",
   "metadata": {},
   "source": [
    "\n",
    "输入一个字符串,按字典序打印出该字符串中字符的所有排列。例如输入字符串abc,则打印出由字符a,b,c所能排列出来的所有字符串abc,acb,bac,bca,cab和cba。\n"
   ]
  },
  {
   "cell_type": "markdown",
   "metadata": {},
   "source": [
    "方法一：递归"
   ]
  },
  {
   "cell_type": "code",
   "execution_count": 16,
   "metadata": {},
   "outputs": [],
   "source": [
    "class Solution:\n",
    "    def Permutation(self, ss):\n",
    "        self.res = []\n",
    "        self.Per('',ss)\n",
    "        return self.res\n",
    "    def Per(self,lst_f, lst_r):\n",
    "        if len(lst_r) == 1:\n",
    "            if lst_f + lst_r not in self.res:\n",
    "                self.res.append(lst_f + lst_r)\n",
    "        for i in range(len( lst_r)):\n",
    "            if i == len(lst_r) - 1:\n",
    "                r = lst_r[:i]\n",
    "            else:\n",
    "                r = lst_r[:i] + lst_r[i+1:]\n",
    "            self.Per( lst_f +  lst_r[i]  ,   r  )"
   ]
  },
  {
   "cell_type": "code",
   "execution_count": null,
   "metadata": {},
   "outputs": [],
   "source": []
  }
 ],
 "metadata": {
  "kernelspec": {
   "display_name": "Python 3",
   "language": "python",
   "name": "python3"
  },
  "language_info": {
   "codemirror_mode": {
    "name": "ipython",
    "version": 3
   },
   "file_extension": ".py",
   "mimetype": "text/x-python",
   "name": "python",
   "nbconvert_exporter": "python",
   "pygments_lexer": "ipython3",
   "version": "3.7.1"
  }
 },
 "nbformat": 4,
 "nbformat_minor": 2
}
