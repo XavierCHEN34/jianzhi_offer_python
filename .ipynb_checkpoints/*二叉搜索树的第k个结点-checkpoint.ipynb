{
 "cells": [
  {
   "cell_type": "markdown",
   "metadata": {},
   "source": [
    "# 二叉搜索树的第k个结点"
   ]
  },
  {
   "cell_type": "markdown",
   "metadata": {},
   "source": [
    "给定一棵二叉搜索树，请找出其中的第k小的结点。例如， （5，3，7，2，4，6，8）    中，按结点数值大小顺序第三小结点的值为4。"
   ]
  },
  {
   "cell_type": "markdown",
   "metadata": {},
   "source": [
    "排序树的中序遍历序列为升序排序，用非递归的中序遍历即可"
   ]
  },
  {
   "cell_type": "code",
   "execution_count": 2,
   "metadata": {},
   "outputs": [],
   "source": [
    "class Solution:\n",
    "    # 返回对应节点TreeNode\n",
    "    def KthNode(self, pRoot, k):\n",
    "        nodes = []\n",
    "        s = []\n",
    "        node = pRoot\n",
    "        while len(s) or node :\n",
    "            while node:\n",
    "                s.append(node)\n",
    "                node = node.left\n",
    "            node = s.pop()\n",
    "            nodes.append(node)\n",
    "            if len(nodes) == k:\n",
    "                return nodes[-1]\n",
    "            node = node.right"
   ]
  },
  {
   "cell_type": "markdown",
   "metadata": {},
   "source": [
    "递归最简单"
   ]
  },
  {
   "cell_type": "code",
   "execution_count": 3,
   "metadata": {},
   "outputs": [],
   "source": [
    "class Solution:\n",
    "    # 返回对应节点TreeNode\n",
    "    def KthNode(self, pRoot, k):\n",
    "        self.nodes = []\n",
    "        self.cur(pRoot)\n",
    "        if k <= 0 or k > len(self.nodes):\n",
    "            return None\n",
    "        return self.nodes[k-1]\n",
    "    \n",
    "    def cur(self,pRoot):\n",
    "        if pRoot:\n",
    "            self.cur(pRoot.left)\n",
    "            self.nodes.append(pRoot)\n",
    "            self.cur(pRoot.right)\n",
    "        else:\n",
    "            return "
   ]
  },
  {
   "cell_type": "code",
   "execution_count": null,
   "metadata": {},
   "outputs": [],
   "source": []
  }
 ],
 "metadata": {
  "kernelspec": {
   "display_name": "Python 3",
   "language": "python",
   "name": "python3"
  },
  "language_info": {
   "codemirror_mode": {
    "name": "ipython",
    "version": 3
   },
   "file_extension": ".py",
   "mimetype": "text/x-python",
   "name": "python",
   "nbconvert_exporter": "python",
   "pygments_lexer": "ipython3",
   "version": "3.7.1"
  }
 },
 "nbformat": 4,
 "nbformat_minor": 2
}
