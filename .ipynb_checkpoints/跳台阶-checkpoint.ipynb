{
 "cells": [
  {
   "cell_type": "markdown",
   "metadata": {},
   "source": [
    "# 跳台阶"
   ]
  },
  {
   "cell_type": "markdown",
   "metadata": {},
   "source": [
    "一只青蛙一次可以跳上1级台阶，也可以跳上2级。求该青蛙跳上一个n级的台阶总共有多少种跳法（先后次序不同算不同的结果）。"
   ]
  },
  {
   "cell_type": "markdown",
   "metadata": {},
   "source": [
    "分析：记 N(n)表示跳n级台阶一共有N(n)中跳法；可得最后一跳可能是跳了1级，也可能是跳了2级；\n",
    "\n",
    "于是用动态规划的状态转移方程为： N(n) = N(n-1) + N(n-2) ，再考虑一下初始状态 N(0) = 1, N(1) = 2, N(2) = 2;\n",
    "\n",
    "可以看出，这就是一个斐波那契数列"
   ]
  },
  {
   "cell_type": "code",
   "execution_count": null,
   "metadata": {},
   "outputs": [],
   "source": [
    "class Solution:\n",
    "    def jumpFloor(self, number):\n",
    "        n_lst = [1,1]\n",
    "        for i in range(number-1):\n",
    "            n_lst.append( n_lst[-1]+ n_lst[-2])\n",
    "        return n_lst[number]"
   ]
  }
 ],
 "metadata": {
  "kernelspec": {
   "display_name": "Python 3",
   "language": "python",
   "name": "python3"
  },
  "language_info": {
   "codemirror_mode": {
    "name": "ipython",
    "version": 3
   },
   "file_extension": ".py",
   "mimetype": "text/x-python",
   "name": "python",
   "nbconvert_exporter": "python",
   "pygments_lexer": "ipython3",
   "version": "3.7.1"
  }
 },
 "nbformat": 4,
 "nbformat_minor": 2
}
