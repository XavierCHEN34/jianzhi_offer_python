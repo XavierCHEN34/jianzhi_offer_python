{
 "cells": [
  {
   "cell_type": "markdown",
   "metadata": {},
   "source": [
    "# 两个链表的第一个公共结点"
   ]
  },
  {
   "cell_type": "markdown",
   "metadata": {},
   "source": [
    "输入两个链表，找出它们的第一个公共结点。"
   ]
  },
  {
   "cell_type": "markdown",
   "metadata": {},
   "source": [
    "方法1：直接上散列"
   ]
  },
  {
   "cell_type": "code",
   "execution_count": 1,
   "metadata": {},
   "outputs": [],
   "source": [
    "class Solution:\n",
    "    def FindFirstCommonNode(self, pHead1, pHead2):\n",
    "        stock = dict()\n",
    "        while pHead1:\n",
    "            stock[pHead1] = 1\n",
    "            pHead1 = pHead1.next\n",
    "        while pHead2:\n",
    "            if pHead2 in stock:\n",
    "                return pHead2\n",
    "            else:\n",
    "                pHead2 = pHead2.next\n",
    "        return None            "
   ]
  },
  {
   "cell_type": "markdown",
   "metadata": {},
   "source": [
    "方法2： 由于有公共节点的链表共用尾巴，可以分别求出他们的长度L1,L2，delt = |L1-L2|. 然后长的链表先走delt步，之后一起往前，直到有一个节点相同"
   ]
  },
  {
   "cell_type": "code",
   "execution_count": 2,
   "metadata": {},
   "outputs": [],
   "source": [
    "class Solution:\n",
    "    def FindFirstCommonNode(self, pHead1, pHead2):\n",
    "        p1,p2 =  pHead1, pHead2\n",
    "        l1,l2 = 0,0\n",
    "        while p1:\n",
    "            l1 += 1\n",
    "            p1 = p1.next \n",
    "        while p2:\n",
    "            l2 += 1\n",
    "            p2 = p2.next\n",
    "        if l1 - l2:\n",
    "            delt = l1 - l2\n",
    "            pl,ps = pHead1, pHead2\n",
    "        else:\n",
    "            delt = l2 -l1\n",
    "            pl,ps = pHead2, pHead1\n",
    "        for i in range(delt):\n",
    "            pl = pl.next \n",
    "        while pl:\n",
    "            if pl == ps:\n",
    "                return pl\n",
    "            else:\n",
    "                pl, ps = pl.next, ps.next\n",
    "        return None"
   ]
  },
  {
   "cell_type": "code",
   "execution_count": null,
   "metadata": {},
   "outputs": [],
   "source": []
  }
 ],
 "metadata": {
  "kernelspec": {
   "display_name": "Python 3",
   "language": "python",
   "name": "python3"
  },
  "language_info": {
   "codemirror_mode": {
    "name": "ipython",
    "version": 3
   },
   "file_extension": ".py",
   "mimetype": "text/x-python",
   "name": "python",
   "nbconvert_exporter": "python",
   "pygments_lexer": "ipython3",
   "version": "3.7.1"
  }
 },
 "nbformat": 4,
 "nbformat_minor": 2
}
