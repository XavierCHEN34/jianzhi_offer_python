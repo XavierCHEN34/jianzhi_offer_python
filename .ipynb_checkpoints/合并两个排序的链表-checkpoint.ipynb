{
 "cells": [
  {
   "cell_type": "markdown",
   "metadata": {},
   "source": [
    "# 合并两个排序的链表"
   ]
  },
  {
   "cell_type": "markdown",
   "metadata": {},
   "source": [
    "输入两个单调递增的链表，输出两个链表合成后的链表，当然我们需要合成后的链表满足单调不减规则。"
   ]
  },
  {
   "cell_type": "markdown",
   "metadata": {},
   "source": [
    "分析：简单的思路是构建一个新的链表，同时两个指针分别从两个表头开始，比较大小，数值小的指针向后移动一下"
   ]
  },
  {
   "cell_type": "code",
   "execution_count": 1,
   "metadata": {},
   "outputs": [],
   "source": [
    "class Solution:\n",
    "    # 返回合并后列表\n",
    "    def Merge(self, pHead1, pHead2):\n",
    "        m = ListNode(0)\n",
    "        start = m\n",
    "        p1, p2 = pHead1, pHead2\n",
    "        while p1 and p2:\n",
    "            if p1.val <= p2.val:\n",
    "                m.next = p1\n",
    "                m = m.next\n",
    "                p1 = p1.next\n",
    "            else:\n",
    "                m.next = p2\n",
    "                m = m.next\n",
    "                p2 = p2.next\n",
    "        if p1:\n",
    "            m.next = p1\n",
    "        if p2:\n",
    "            m.next = p2\n",
    "        return start.next"
   ]
  },
  {
   "cell_type": "code",
   "execution_count": null,
   "metadata": {},
   "outputs": [],
   "source": []
  },
  {
   "cell_type": "code",
   "execution_count": null,
   "metadata": {},
   "outputs": [],
   "source": []
  }
 ],
 "metadata": {
  "kernelspec": {
   "display_name": "Python 3",
   "language": "python",
   "name": "python3"
  },
  "language_info": {
   "codemirror_mode": {
    "name": "ipython",
    "version": 3
   },
   "file_extension": ".py",
   "mimetype": "text/x-python",
   "name": "python",
   "nbconvert_exporter": "python",
   "pygments_lexer": "ipython3",
   "version": "3.7.1"
  }
 },
 "nbformat": 4,
 "nbformat_minor": 2
}
