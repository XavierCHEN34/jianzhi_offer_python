{
 "cells": [
  {
   "cell_type": "markdown",
   "metadata": {},
   "source": [
    "# 删除链表中重复的结点"
   ]
  },
  {
   "cell_type": "markdown",
   "metadata": {},
   "source": [
    "在一个排序的链表中，存在重复的结点，请删除该链表中重复的结点，重复的结点不保留，返回链表头指针。 例如，链表1->2->3->3->4->4->5 处理后为 1->2->5"
   ]
  },
  {
   "cell_type": "markdown",
   "metadata": {},
   "source": [
    "硬搞"
   ]
  },
  {
   "cell_type": "code",
   "execution_count": 1,
   "metadata": {},
   "outputs": [],
   "source": [
    "class Solution:\n",
    "    def deleteDuplication(self, pHead):\n",
    "        if not pHead: return None \n",
    "        ph = ListNode(-1)\n",
    "        ph.next = pHead\n",
    "        p = ph\n",
    "        while p.next.next:\n",
    "            pn = p.next\n",
    "            pnn = pn.next\n",
    "            \n",
    "            if pnn.val == pn.val:\n",
    "                while pnn.val == pn.val:\n",
    "                    pnn = pnn.next\n",
    "                    if pnn == None:\n",
    "                        break\n",
    "                p.next = pnn\n",
    "                if p.next == None:\n",
    "                    break\n",
    "                continue\n",
    "            else:\n",
    "                p = pn\n",
    "            if p.next == None:\n",
    "                break\n",
    "            \n",
    "        return ph.next\n",
    "                "
   ]
  },
  {
   "cell_type": "code",
   "execution_count": null,
   "metadata": {},
   "outputs": [],
   "source": []
  }
 ],
 "metadata": {
  "kernelspec": {
   "display_name": "Python 3",
   "language": "python",
   "name": "python3"
  },
  "language_info": {
   "codemirror_mode": {
    "name": "ipython",
    "version": 3
   },
   "file_extension": ".py",
   "mimetype": "text/x-python",
   "name": "python",
   "nbconvert_exporter": "python",
   "pygments_lexer": "ipython3",
   "version": "3.7.1"
  }
 },
 "nbformat": 4,
 "nbformat_minor": 2
}
