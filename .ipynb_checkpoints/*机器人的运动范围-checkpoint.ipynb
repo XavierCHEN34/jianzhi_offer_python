{
 "cells": [
  {
   "cell_type": "markdown",
   "metadata": {},
   "source": [
    "# 机器人的运动范围"
   ]
  },
  {
   "cell_type": "markdown",
   "metadata": {},
   "source": [
    "地上有一个m行和n列的方格。一个机器人从坐标0,0的格子开始移动，每一次只能向左，右，上，下四个方向移动一格，但是不能进入行坐标和列坐标的数位之和大于k的格子。 例如，当k为18时，机器人能够进入方格（35,37），因为3+5+3+7 = 18。但是，它不能进入方格（35,38），因为3+5+3+8 = 19。请问该机器人能够达到多少个格子？|"
   ]
  },
  {
   "cell_type": "markdown",
   "metadata": {},
   "source": [
    "分析：递归或者DFS"
   ]
  },
  {
   "cell_type": "code",
   "execution_count": 4,
   "metadata": {},
   "outputs": [],
   "source": [
    "class Solution:\n",
    "    def __init__(self):\n",
    "        self.count = 0\n",
    " \n",
    "    def movingCount(self, threshold, rows, cols):\n",
    "        # write code here\n",
    "        arr = [[1 for i in range(cols)] for j in range(rows)]\n",
    "        self.findway(arr, 0, 0, threshold)\n",
    "        return self.count\n",
    " \n",
    "    def findway(self, arr, i, j, k):\n",
    "        if i < 0 or j < 0 or i >= len(arr) or j >= len(arr[0]):\n",
    "            return\n",
    "        tmpi = list(map(int, list(str(i))))\n",
    "        tmpj = list(map(int, list(str(j))))\n",
    "        if sum(tmpi) + sum(tmpj) > k or arr[i][j] != 1:\n",
    "            return\n",
    "        arr[i][j] = 0\n",
    "        self.count += 1\n",
    "        self.findway(arr, i + 1, j, k)\n",
    "        self.findway(arr, i - 1, j, k)\n",
    "        self.findway(arr, i, j + 1, k)\n",
    "        self.findway(arr, i, j - 1, k)\n"
   ]
  }
 ],
 "metadata": {
  "kernelspec": {
   "display_name": "Python 3",
   "language": "python",
   "name": "python3"
  },
  "language_info": {
   "codemirror_mode": {
    "name": "ipython",
    "version": 3
   },
   "file_extension": ".py",
   "mimetype": "text/x-python",
   "name": "python",
   "nbconvert_exporter": "python",
   "pygments_lexer": "ipython3",
   "version": "3.7.1"
  }
 },
 "nbformat": 4,
 "nbformat_minor": 2
}
