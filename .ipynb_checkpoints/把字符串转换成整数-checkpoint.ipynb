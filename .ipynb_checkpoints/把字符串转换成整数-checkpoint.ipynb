{
 "cells": [
  {
   "cell_type": "markdown",
   "metadata": {},
   "source": [
    "# 把字符串转换成整数"
   ]
  },
  {
   "cell_type": "markdown",
   "metadata": {},
   "source": [
    "将一个字符串转换成一个整数(实现Integer.valueOf(string)的功能，但是string不符合数字要求时返回0)，要求不能使用字符串转换整数的库函数。 数值为0或者字符串不是一个合法的数值则返回0。"
   ]
  },
  {
   "cell_type": "markdown",
   "metadata": {},
   "source": [
    "很无聊"
   ]
  },
  {
   "cell_type": "code",
   "execution_count": 4,
   "metadata": {},
   "outputs": [],
   "source": [
    "class Solution:\n",
    "    def StrToInt(self, s):\n",
    "        \n",
    "        if not len(s):\n",
    "            return 0\n",
    "        \n",
    "        flag = 1\n",
    "        if s[0] == '+':\n",
    "            if len(s) == 1:\n",
    "                return 0\n",
    "            s = s[1:]\n",
    "            \n",
    "        if s[0] == '-':\n",
    "            if len(s) == 1:\n",
    "                return 0\n",
    "            s = s[1:]\n",
    "            flag = 0\n",
    "\n",
    "        numbers = [str(i) for i in range(10)]\n",
    "        count = 0\n",
    "        for i in range(len(s)):\n",
    "            if s[i]   not in numbers:\n",
    "                return 0\n",
    "            else:\n",
    "                count += int( s[-1-i] )  * (10**i)\n",
    "        if flag:\n",
    "            return count \n",
    "        else:\n",
    "            return -count"
   ]
  },
  {
   "cell_type": "markdown",
   "metadata": {},
   "source": []
  }
 ],
 "metadata": {
  "kernelspec": {
   "display_name": "Python 3",
   "language": "python",
   "name": "python3"
  },
  "language_info": {
   "codemirror_mode": {
    "name": "ipython",
    "version": 3
   },
   "file_extension": ".py",
   "mimetype": "text/x-python",
   "name": "python",
   "nbconvert_exporter": "python",
   "pygments_lexer": "ipython3",
   "version": "3.7.1"
  }
 },
 "nbformat": 4,
 "nbformat_minor": 2
}
