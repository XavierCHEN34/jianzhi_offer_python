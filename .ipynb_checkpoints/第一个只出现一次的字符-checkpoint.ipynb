{
 "cells": [
  {
   "cell_type": "markdown",
   "metadata": {},
   "source": [
    "# 第一个只出现一次的字符"
   ]
  },
  {
   "cell_type": "markdown",
   "metadata": {},
   "source": [
    "在一个字符串(0<=字符串长度<=10000，全部由字母组成)中找到第一个只出现一次的字符,并返回它的位置, 如果没有则返回 -1（需要区分大小写）."
   ]
  },
  {
   "cell_type": "markdown",
   "metadata": {},
   "source": [
    "散列"
   ]
  },
  {
   "cell_type": "code",
   "execution_count": 1,
   "metadata": {},
   "outputs": [],
   "source": [
    "class Solution:\n",
    "    def FirstNotRepeatingChar(self, s):\n",
    "        dic = dict()\n",
    "        for i in range(len(s)):\n",
    "            a = s[i]\n",
    "            if a not in dic:\n",
    "                dic[a] = 1\n",
    "            else:\n",
    "                dic[a] += 1\n",
    "        for i in range(len(s)):\n",
    "            a = s[i]\n",
    "            if dic[a] == 1:\n",
    "                return i\n",
    "        return -1"
   ]
  },
  {
   "cell_type": "code",
   "execution_count": null,
   "metadata": {},
   "outputs": [],
   "source": []
  }
 ],
 "metadata": {
  "kernelspec": {
   "display_name": "Python 3",
   "language": "python",
   "name": "python3"
  },
  "language_info": {
   "codemirror_mode": {
    "name": "ipython",
    "version": 3
   },
   "file_extension": ".py",
   "mimetype": "text/x-python",
   "name": "python",
   "nbconvert_exporter": "python",
   "pygments_lexer": "ipython3",
   "version": "3.7.1"
  }
 },
 "nbformat": 4,
 "nbformat_minor": 2
}
