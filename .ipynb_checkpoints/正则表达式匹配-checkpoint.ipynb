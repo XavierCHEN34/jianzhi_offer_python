{
 "cells": [
  {
   "cell_type": "markdown",
   "metadata": {},
   "source": [
    "# 正则表达式匹配"
   ]
  },
  {
   "cell_type": "markdown",
   "metadata": {},
   "source": [
    "请实现一个函数用来匹配包括'.'和'*'的正则表达式。模式中的字符'.'表示任意一个字符，而'*'表示它前面的字符可以出现任意次（包含0次）。 在本题中，匹配是指字符串的所有字符匹配整个模式。例如，字符串\"aaa\"与模式\"a.a\"和\"ab*ac*a\"匹配，但是与\"aa.a\"和\"ab*a\"均不匹配"
   ]
  },
  {
   "cell_type": "markdown",
   "metadata": {},
   "source": [
    "这个试了好多次都不对，然后抄了个答案"
   ]
  },
  {
   "cell_type": "code",
   "execution_count": 1,
   "metadata": {},
   "outputs": [],
   "source": [
    "class Solution:\n",
    "    # s, pattern都是字符串\n",
    "    def match(self, s, pattern):\n",
    "        # 如果s与pattern都为空，则True\n",
    "        if len(s) == 0 and len(pattern) == 0:\n",
    "            return True\n",
    "        # 如果s不为空，而pattern为空，则False\n",
    "        elif len(s) != 0 and len(pattern) == 0:\n",
    "            return False\n",
    "        # 如果s为空，而pattern不为空，则需要判断\n",
    "        elif len(s) == 0 and len(pattern) != 0:\n",
    "            # pattern中的第二个字符为*，则pattern后移两位继续比较\n",
    "            if len(pattern) > 1 and pattern[1] == '*':\n",
    "                return self.match(s, pattern[2:])\n",
    "            else:\n",
    "                return False\n",
    "        # s与pattern都不为空的情况\n",
    "        else:\n",
    "            # pattern的第二个字符为*的情况\n",
    "            if len(pattern) > 1 and pattern[1] == '*':\n",
    "                # s与pattern的第一个元素不同，则s不变，pattern后移两位，相当于pattern前两位当成空\n",
    "                if s[0] != pattern[0] and pattern[0] != '.':\n",
    "                    return self.match(s, pattern[2:])\n",
    "                else:\n",
    "                    # 如果s[0]与pattern[0]相同，且pattern[1]为*，这个时候有三种情况\n",
    "                    # pattern后移2个，s不变；相当于把pattern前两位当成空，匹配后面的\n",
    "                    # pattern后移2个，s后移1个；相当于pattern前两位与s[0]匹配\n",
    "                    # pattern不变，s后移1个；相当于pattern前两位，与s中的多位进行匹配，因为*可以匹配多位\n",
    "                    return self.match(s, pattern[2:]) or self.match(s[1:], pattern[2:]) or self.match(s[1:], pattern)\n",
    "            # pattern第二个字符不为*的情况\n",
    "            else:\n",
    "                if s[0] == pattern[0] or pattern[0] == '.':\n",
    "                    return self.match(s[1:], pattern[1:])\n",
    "                else:\n",
    "                    return False"
   ]
  },
  {
   "cell_type": "code",
   "execution_count": null,
   "metadata": {},
   "outputs": [],
   "source": []
  }
 ],
 "metadata": {
  "kernelspec": {
   "display_name": "Python 3",
   "language": "python",
   "name": "python3"
  },
  "language_info": {
   "codemirror_mode": {
    "name": "ipython",
    "version": 3
   },
   "file_extension": ".py",
   "mimetype": "text/x-python",
   "name": "python",
   "nbconvert_exporter": "python",
   "pygments_lexer": "ipython3",
   "version": "3.7.1"
  }
 },
 "nbformat": 4,
 "nbformat_minor": 2
}
