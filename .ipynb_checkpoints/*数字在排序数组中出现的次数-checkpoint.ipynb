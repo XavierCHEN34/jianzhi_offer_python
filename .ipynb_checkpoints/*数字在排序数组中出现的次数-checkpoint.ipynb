{
 "cells": [
  {
   "cell_type": "markdown",
   "metadata": {},
   "source": [
    "# 数字在排序数组中出现的次数"
   ]
  },
  {
   "cell_type": "markdown",
   "metadata": {},
   "source": [
    "统计一个数字在排序数组中出现的次数。"
   ]
  },
  {
   "cell_type": "markdown",
   "metadata": {},
   "source": [
    "分析：两次二分法查找，分别找到左节点和右节点的索引，然后相减"
   ]
  },
  {
   "cell_type": "code",
   "execution_count": 20,
   "metadata": {},
   "outputs": [],
   "source": [
    "class Solution:\n",
    "    def GetNumberOfK(self, data, k):\n",
    "        i_l = self.find_left(data,k)\n",
    "        i_r = self.find_right(data,k)\n",
    "        if i_l >= 0:\n",
    "            return i_r - i_l + 1\n",
    "        else:\n",
    "            return 0\n",
    "            \n",
    "            \n",
    "        \n",
    "    def find_left(self,data,k):\n",
    "        l,r = 0, len(data)\n",
    "        while l <= r:\n",
    "            m = int ((l + r) / 2)\n",
    "            if m < 0 or m>= len(data):\n",
    "                return -1\n",
    "            if data[m] < k:\n",
    "                l = m + 1\n",
    "                continue\n",
    "            if data[m] > k:\n",
    "                r = m - 1\n",
    "                continue\n",
    "            if data[m] == k :\n",
    "                if m == 0:\n",
    "                    return m\n",
    "                if data[m-1] < k :\n",
    "                    return m\n",
    "                else:\n",
    "                    r = m - 1\n",
    "        return -1\n",
    "    \n",
    "    def find_right(self,data,k):\n",
    "        l,r = 0, len(data)\n",
    "        while l <= r:\n",
    "            m = int ((l + r) / 2)\n",
    "            if m < 0 or m>= len(data):\n",
    "                return -1\n",
    "            if data[m] < k:\n",
    "                l = m + 1\n",
    "                continue\n",
    "            if data[m] > k:\n",
    "                r = m - 1\n",
    "                continue\n",
    "            if data[m] == k :\n",
    "                if m == len(data)-1 :\n",
    "                    return m\n",
    "                if data[m+1] > k :\n",
    "                    return m\n",
    "                else:\n",
    "                    l = m + 1\n",
    "        return -1"
   ]
  },
  {
   "cell_type": "code",
   "execution_count": 21,
   "metadata": {},
   "outputs": [
    {
     "data": {
      "text/plain": [
       "0"
      ]
     },
     "execution_count": 21,
     "metadata": {},
     "output_type": "execute_result"
    }
   ],
   "source": [
    "s = Solution()\n",
    "data = [1,3,3,3,3,4,5]\n",
    "k = 6\n",
    "s.GetNumberOfK(data, k)\n"
   ]
  },
  {
   "cell_type": "code",
   "execution_count": null,
   "metadata": {},
   "outputs": [],
   "source": []
  }
 ],
 "metadata": {
  "kernelspec": {
   "display_name": "Python 3",
   "language": "python",
   "name": "python3"
  },
  "language_info": {
   "codemirror_mode": {
    "name": "ipython",
    "version": 3
   },
   "file_extension": ".py",
   "mimetype": "text/x-python",
   "name": "python",
   "nbconvert_exporter": "python",
   "pygments_lexer": "ipython3",
   "version": "3.7.1"
  }
 },
 "nbformat": 4,
 "nbformat_minor": 2
}
