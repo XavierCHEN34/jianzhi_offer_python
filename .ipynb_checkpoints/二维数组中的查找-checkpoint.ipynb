{
 "cells": [
  {
   "cell_type": "markdown",
   "metadata": {},
   "source": [
    "# 二维数组中的查找"
   ]
  },
  {
   "cell_type": "markdown",
   "metadata": {},
   "source": [
    "## 描述：\n",
    "在一个二维数组中（每个一维数组的长度相同），每一行都按照从左到右递增的顺序排序，每一列都按照从上到下递增的顺序排序。请完成一个函数，输入这样的一个二维数组和一个整数，判断数组中是否含有该整数。"
   ]
  },
  {
   "cell_type": "markdown",
   "metadata": {},
   "source": [
    "## 分析：\n",
    "由于每一行递增，每一列递减，所以从右上角的数字开始检查（也可以是左下角）；右上角的数字在这一行是最大的，同时在这一列是最小的。\n",
    "\n",
    "如果该数字小于目标数字，就下移一行查找； 如果该数组大于目标数字，就左移一列查找，由此时间复杂度 O(n)"
   ]
  },
  {
   "cell_type": "code",
   "execution_count": 2,
   "metadata": {},
   "outputs": [],
   "source": [
    "def Find(target, array):\n",
    "    if array == None:\n",
    "        return False\n",
    "    \n",
    "    n_row = len(array)\n",
    "    n_col = len(array[0])\n",
    "    \n",
    "    row, col = 0, n_col - 1\n",
    "    while row < n_row and col >= 0:\n",
    "        if array[row][col] == target:\n",
    "            return True \n",
    "        if array[row][col] > target:\n",
    "            col = col - 1\n",
    "        if array[row][col] < target:\n",
    "            row = row + 1\n",
    "    return False"
   ]
  }
 ],
 "metadata": {
  "kernelspec": {
   "display_name": "Python 3",
   "language": "python",
   "name": "python3"
  },
  "language_info": {
   "codemirror_mode": {
    "name": "ipython",
    "version": 3
   },
   "file_extension": ".py",
   "mimetype": "text/x-python",
   "name": "python",
   "nbconvert_exporter": "python",
   "pygments_lexer": "ipython3",
   "version": "3.7.1"
  }
 },
 "nbformat": 4,
 "nbformat_minor": 2
}
