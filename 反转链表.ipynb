{
 "cells": [
  {
   "cell_type": "markdown",
   "metadata": {},
   "source": [
    "# 反转链表"
   ]
  },
  {
   "cell_type": "markdown",
   "metadata": {},
   "source": [
    "输入一个链表，反转链表后，输出新链表的表头。"
   ]
  },
  {
   "cell_type": "markdown",
   "metadata": {},
   "source": [
    "分析：最简单的解法，就是记录当前节点h, 下一个节点hn,再下一个节点hnn,然后一步一步往后推"
   ]
  },
  {
   "cell_type": "code",
   "execution_count": 1,
   "metadata": {},
   "outputs": [],
   "source": [
    "class Solution:\n",
    "    # 返回ListNode\n",
    "    def ReverseList(self, pHead):\n",
    "        h = pHead\n",
    "        if h == None:\n",
    "            return None\n",
    "        if h.next == None:\n",
    "            return h\n",
    "        hn = h.next\n",
    "        hnn = hn.next \n",
    "        h.next = None\n",
    "        while hnn:\n",
    "            hn.next = h\n",
    "            h = hn\n",
    "            hn = hnn\n",
    "            hnn = hn.next\n",
    "        hn.next = h\n",
    "        return hn"
   ]
  },
  {
   "cell_type": "markdown",
   "metadata": {},
   "source": [
    "递归调用较难理解"
   ]
  },
  {
   "cell_type": "code",
   "execution_count": 2,
   "metadata": {},
   "outputs": [],
   "source": [
    "class Solution:\n",
    "    # 返回ListNode\n",
    "    def ReverseList(self, head):\n",
    "        \n",
    "        if not head or not head.next:\n",
    "            return head\n",
    "\n",
    "        new_head = self.ReverseList(head.next)\n",
    "\n",
    "        head.next.next = head\n",
    "        head.next = None\n",
    "        return new_head"
   ]
  },
  {
   "cell_type": "code",
   "execution_count": null,
   "metadata": {},
   "outputs": [],
   "source": []
  }
 ],
 "metadata": {
  "kernelspec": {
   "display_name": "Python 3",
   "language": "python",
   "name": "python3"
  },
  "language_info": {
   "codemirror_mode": {
    "name": "ipython",
    "version": 3
   },
   "file_extension": ".py",
   "mimetype": "text/x-python",
   "name": "python",
   "nbconvert_exporter": "python",
   "pygments_lexer": "ipython3",
   "version": "3.7.1"
  }
 },
 "nbformat": 4,
 "nbformat_minor": 2
}
