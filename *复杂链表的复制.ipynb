{
 "cells": [
  {
   "cell_type": "markdown",
   "metadata": {},
   "source": [
    "# 复杂链表的复制"
   ]
  },
  {
   "cell_type": "markdown",
   "metadata": {},
   "source": [
    "输入一个复杂链表（每个节点中有节点值，以及两个指针，一个指向下一个节点，另一个特殊指针指向任意一个节点），返回结果为复制后复杂链表的head。（注意，输出结果中请不要返回参数中的节点引用，否则判题程序会直接返回空）"
   ]
  },
  {
   "cell_type": "markdown",
   "metadata": {},
   "source": [
    "自己没想出来，看的答案\n",
    "\n",
    "链接：https://www.nowcoder.com/questionTerminal/f836b2c43afc4b35ad6adc41ec941dba\n",
    "来源：牛客网\n",
    "\n",
    "*1、遍历链表，复制每个结点，如复制结点A得到A1，将结点A1插到结点A后面；\n",
    "*2、重新遍历链表，复制老结点的随机指针给新结点，如A1.random = A.random.next;\n",
    "*3、拆分链表，将链表拆分为原链表和复制后的链表"
   ]
  },
  {
   "cell_type": "code",
   "execution_count": 1,
   "metadata": {},
   "outputs": [],
   "source": [
    "class Solution:\n",
    "    # 返回 RandomListNode\n",
    "    def Clone(self, pHead):\n",
    "        if not pHead:\n",
    "            return None\n",
    "         \n",
    "        dummy = pHead\n",
    "         \n",
    "        # first step, N' to N next\n",
    "        while dummy:\n",
    "            dummynext = dummy.next\n",
    "            copynode = RandomListNode(dummy.label)\n",
    "            copynode.next = dummynext\n",
    "            dummy.next = copynode\n",
    "            dummy = dummynext\n",
    "         \n",
    "        dummy = pHead\n",
    "         \n",
    "        # second step, random' to random'\n",
    "        while dummy:\n",
    "            dummyrandom = dummy.random\n",
    "            copynode = dummy.next\n",
    "            if dummyrandom:\n",
    "                copynode.random = dummyrandom.next\n",
    "            dummy = copynode.next\n",
    "         \n",
    "        # third step, split linked list\n",
    "        dummy = pHead\n",
    "        copyHead = pHead.next\n",
    "        while dummy:\n",
    "            copyNode = dummy.next\n",
    "            dummynext = copyNode.next\n",
    "            dummy.next = dummynext\n",
    "            if dummynext:\n",
    "                copyNode.next = dummynext.next\n",
    "            else:\n",
    "                copyNode.next = None\n",
    "            dummy = dummynext\n",
    " \n",
    "        return copyHead"
   ]
  },
  {
   "cell_type": "code",
   "execution_count": null,
   "metadata": {},
   "outputs": [],
   "source": []
  }
 ],
 "metadata": {
  "kernelspec": {
   "display_name": "Python 3",
   "language": "python",
   "name": "python3"
  },
  "language_info": {
   "codemirror_mode": {
    "name": "ipython",
    "version": 3
   },
   "file_extension": ".py",
   "mimetype": "text/x-python",
   "name": "python",
   "nbconvert_exporter": "python",
   "pygments_lexer": "ipython3",
   "version": "3.7.1"
  }
 },
 "nbformat": 4,
 "nbformat_minor": 2
}
