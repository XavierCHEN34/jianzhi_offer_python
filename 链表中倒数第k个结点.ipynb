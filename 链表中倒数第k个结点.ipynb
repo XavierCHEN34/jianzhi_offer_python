{
 "cells": [
  {
   "cell_type": "markdown",
   "metadata": {},
   "source": [
    "# 链表中倒数第k个结点"
   ]
  },
  {
   "cell_type": "markdown",
   "metadata": {},
   "source": [
    "\n",
    "输入一个链表，输出该链表中倒数第k个结点。"
   ]
  },
  {
   "cell_type": "markdown",
   "metadata": {},
   "source": [
    "分析：快慢指针，快的先走k步，当快的来到链表的尾巴，慢的就到了倒数第k个,唯一需要注意的是各种特殊情况，比如 head = None or k = 0"
   ]
  },
  {
   "cell_type": "code",
   "execution_count": 2,
   "metadata": {},
   "outputs": [],
   "source": [
    "class Solution:\n",
    "    def FindKthToTail(self, head, k):\n",
    "        if head == None or k == 0:\n",
    "            return None\n",
    "        h = head\n",
    "        point = h\n",
    "        for i in range(k-1):\n",
    "            if point.next == None:\n",
    "                return None\n",
    "            point = point.next\n",
    "        while point.next:\n",
    "            point = point.next\n",
    "            h = h.next\n",
    "        return h"
   ]
  },
  {
   "cell_type": "code",
   "execution_count": null,
   "metadata": {},
   "outputs": [],
   "source": []
  }
 ],
 "metadata": {
  "kernelspec": {
   "display_name": "Python 3",
   "language": "python",
   "name": "python3"
  },
  "language_info": {
   "codemirror_mode": {
    "name": "ipython",
    "version": 3
   },
   "file_extension": ".py",
   "mimetype": "text/x-python",
   "name": "python",
   "nbconvert_exporter": "python",
   "pygments_lexer": "ipython3",
   "version": "3.7.1"
  }
 },
 "nbformat": 4,
 "nbformat_minor": 2
}
