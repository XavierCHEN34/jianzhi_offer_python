{
 "cells": [
  {
   "cell_type": "markdown",
   "metadata": {},
   "source": [
    "# 旋转数组的最小数字"
   ]
  },
  {
   "cell_type": "markdown",
   "metadata": {},
   "source": [
    "把一个数组最开始的若干个元素搬到数组的末尾，我们称之为数组的旋转。 输入一个非减排序的数组的一个旋转，输出旋转数组的最小元素。 例如数组{3,4,5,1,2}为{1,2,3,4,5}的一个旋转，该数组的最小值为1。 NOTE：给出的所有元素都大于0，若数组大小为0，请返回0。"
   ]
  },
  {
   "cell_type": "markdown",
   "metadata": {},
   "source": [
    "分析：给定一个旋转数组 {3,4,5,1,2}， 可以看为两个增序的数组[3,4,5] 和 [ 1 ,2]\n",
    "\n",
    "这个问题要找最小数字，其实就是找数组中第一个 <= l[0]的数字， 自然想到用二分法查找"
   ]
  },
  {
   "cell_type": "code",
   "execution_count": 12,
   "metadata": {},
   "outputs": [],
   "source": [
    "def minNumberInRotateArray(rotateArray):\n",
    "    if len(rotateArray) == 0:\n",
    "        return 0\n",
    "\n",
    "    l,r = 0, len(rotateArray) - 1\n",
    "    while l <=  r :\n",
    "        m = int(  (l+r) / 2)\n",
    "        if rotateArray[m] > rotateArray[0]:\n",
    "            l = m + 1\n",
    "        else:\n",
    "            r = m -1\n",
    "    return rotateArray[l]"
   ]
  },
  {
   "cell_type": "code",
   "execution_count": null,
   "metadata": {},
   "outputs": [],
   "source": []
  },
  {
   "cell_type": "code",
   "execution_count": 13,
   "metadata": {},
   "outputs": [
    {
     "name": "stdout",
     "output_type": "stream",
     "text": [
      "0 1\n",
      "0\n"
     ]
    }
   ],
   "source": [
    "def b_search(array, t):\n",
    "    l,r = 0,len(array)-1\n",
    "    while l <=  r:\n",
    "        print(l,r)\n",
    "        m = (l+r) // 2\n",
    "        if array[m] == t:\n",
    "            return m \n",
    "        if array[m] > t:\n",
    "            r = m - 1 \n",
    "        if array[m] < t:\n",
    "            l = m + 1\n",
    "    return -1\n",
    "\n",
    "a = [ 90,92 ]\n",
    "print( b_search(a, 90))\n",
    "        \n",
    "    "
   ]
  },
  {
   "cell_type": "code",
   "execution_count": null,
   "metadata": {},
   "outputs": [],
   "source": []
  }
 ],
 "metadata": {
  "kernelspec": {
   "display_name": "Python 3",
   "language": "python",
   "name": "python3"
  },
  "language_info": {
   "codemirror_mode": {
    "name": "ipython",
    "version": 3
   },
   "file_extension": ".py",
   "mimetype": "text/x-python",
   "name": "python",
   "nbconvert_exporter": "python",
   "pygments_lexer": "ipython3",
   "version": "3.7.1"
  }
 },
 "nbformat": 4,
 "nbformat_minor": 2
}
