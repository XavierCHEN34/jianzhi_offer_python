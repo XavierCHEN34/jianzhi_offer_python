{
 "cells": [
  {
   "cell_type": "markdown",
   "metadata": {},
   "source": [
    "# 链表中环的入口结点"
   ]
  },
  {
   "cell_type": "markdown",
   "metadata": {},
   "source": [
    "给一个链表，若其中包含环，请找出该链表的环的入口结点，否则，输出null。"
   ]
  },
  {
   "cell_type": "markdown",
   "metadata": {},
   "source": [
    "\n",
    "\n",
    "转： \n",
    "\n",
    "假设x为环前面的路程（黑色路程），a为环入口到相遇点的路程（蓝色路程，假设顺时针走）， c为环的长度（蓝色+橙色路程）\n",
    "当快慢指针相遇的时候：\n",
    "\n",
    "此时慢指针走的路程为Sslow = x + m * c + a\n",
    "快指针走的路程为Sfast = x + n * c + a\n",
    "2 Sslow = Sfast\n",
    "2 * ( x + m*c + a ) = (x + n *c + a)\n",
    "从而可以推导出：\n",
    "x = (n - 2 * m )*c - a\n",
    "= (n - 2 *m -1 )*c + c - a\n",
    "即环前面的路程 = 数个环的长度（为可能为0） + c - a\n",
    "什么是c - a？这是相遇点后，环后面部分的路程。（橙色路程）\n",
    "所以，我们可以让一个指针从起点A开始走，让一个指针从相遇点B开始继续往后走，\n",
    "2个指针速度一样，那么，当从原点的指针走到环入口点的时候（此时刚好走了x）\n",
    "从相遇点开始走的那个指针也一定刚好到达环入口点。\n",
    "所以2者会相遇，且恰好相遇在环的入口点。"
   ]
  },
  {
   "cell_type": "code",
   "execution_count": 6,
   "metadata": {},
   "outputs": [],
   "source": [
    "class Solution:\n",
    "    def EntryNodeOfLoop(self, pHead):\n",
    "        p_fast = pHead\n",
    "        p_slow = pHead\n",
    "        while p_fast.next:\n",
    "            p_fast = p_fast.next.next\n",
    "            p_slow = p_slow.next\n",
    "            if p_fast == p_slow:\n",
    "                p_third = pHead\n",
    "                while p_fast != p_third:\n",
    "                    p_fast = p_fast.next\n",
    "                    p_third = p_third.next\n",
    "                return p_third\n",
    "        return None"
   ]
  },
  {
   "cell_type": "markdown",
   "metadata": {},
   "source": [
    "但是暴力使用散列表其实也可以，时间复杂度是O(n), 但是额外引入了O(n)的存储空间"
   ]
  },
  {
   "cell_type": "code",
   "execution_count": 8,
   "metadata": {},
   "outputs": [],
   "source": [
    "class Solution:\n",
    "    def EntryNodeOfLoop(self, pHead):\n",
    "        if pHead.next == None or pHead.next == pHead:\n",
    "            return pHead.next\n",
    "        nodes = dict()\n",
    "        while pHead:\n",
    "            if pHead not in nodes:\n",
    "                nodes[pHead] = 1\n",
    "                pHead = pHead.next \n",
    "            else:\n",
    "                return pHead\n",
    "        return None"
   ]
  },
  {
   "cell_type": "code",
   "execution_count": null,
   "metadata": {},
   "outputs": [],
   "source": []
  }
 ],
 "metadata": {
  "kernelspec": {
   "display_name": "Python 3",
   "language": "python",
   "name": "python3"
  },
  "language_info": {
   "codemirror_mode": {
    "name": "ipython",
    "version": 3
   },
   "file_extension": ".py",
   "mimetype": "text/x-python",
   "name": "python",
   "nbconvert_exporter": "python",
   "pygments_lexer": "ipython3",
   "version": "3.7.1"
  }
 },
 "nbformat": 4,
 "nbformat_minor": 2
}
