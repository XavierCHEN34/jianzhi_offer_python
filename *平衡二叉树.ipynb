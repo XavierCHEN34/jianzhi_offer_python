{
 "cells": [
  {
   "cell_type": "markdown",
   "metadata": {},
   "source": [
    "# 平衡二叉树"
   ]
  },
  {
   "cell_type": "markdown",
   "metadata": {},
   "source": [
    "题目描述:\n",
    "输入一棵二叉树，判断该二叉树是否是平衡二叉树。"
   ]
  },
  {
   "cell_type": "markdown",
   "metadata": {},
   "source": [
    "分析：构建两个递归函数，一次递归遍历二叉树的每个节点，检查左子树与右子树的深度差；另外一次递归求节点的深度"
   ]
  },
  {
   "cell_type": "code",
   "execution_count": 2,
   "metadata": {},
   "outputs": [],
   "source": [
    "class Solution:\n",
    "    def IsBalanced_Solution(self, pRoot):\n",
    "            if not pRoot:\n",
    "                return True \n",
    "            if  abs(self.Depth(pRoot.left) - self.Depth(pRoot.right)) >1:\n",
    "                return False\n",
    "            return self.IsBalanced_Solution(pRoot.left) and self.IsBalanced_Solution(pRoot.right)\n",
    "           \n",
    "    def Depth(self, p):\n",
    "        if p == None:\n",
    "            return 0\n",
    "        return max(self.Depth(p.left), self.Depth(p.right)) + 1 "
   ]
  },
  {
   "cell_type": "markdown",
   "metadata": {},
   "source": [
    "两个递归非常慢，于是可以考虑只求根节点的的深度，在求深度的时候，用递归遍历每个子树，当子树的左右高度差大于大于1的时候，就直接return -1"
   ]
  },
  {
   "cell_type": "code",
   "execution_count": 3,
   "metadata": {},
   "outputs": [],
   "source": [
    "class Solution:\n",
    "    def IsBalanced_Solution(self, pRoot):\n",
    "            if not pRoot:\n",
    "                return True \n",
    "           \n",
    "            return not self.Depth(pRoot) == -1\n",
    "           \n",
    "    def Depth(self, p):\n",
    "        if p == None:\n",
    "            return 0\n",
    "        l_depth = self.Depth(p.left)\n",
    "        r_depth = self.Depth(p.right)\n",
    "        if abs(l_depth - r_depth) > 1:\n",
    "            return -1 \n",
    "        if l_depth == -1 or r_depth == -1:\n",
    "            return -1 \n",
    "        return max(l_depth,r_depth) + 1"
   ]
  },
  {
   "cell_type": "code",
   "execution_count": null,
   "metadata": {},
   "outputs": [],
   "source": []
  }
 ],
 "metadata": {
  "kernelspec": {
   "display_name": "Python 3",
   "language": "python",
   "name": "python3"
  },
  "language_info": {
   "codemirror_mode": {
    "name": "ipython",
    "version": 3
   },
   "file_extension": ".py",
   "mimetype": "text/x-python",
   "name": "python",
   "nbconvert_exporter": "python",
   "pygments_lexer": "ipython3",
   "version": "3.7.1"
  }
 },
 "nbformat": 4,
 "nbformat_minor": 2
}
