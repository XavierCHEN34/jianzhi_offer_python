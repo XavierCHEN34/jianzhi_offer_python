{
 "cells": [
  {
   "cell_type": "markdown",
   "metadata": {},
   "source": [
    "# 二叉搜索树的后序遍历序列"
   ]
  },
  {
   "cell_type": "markdown",
   "metadata": {},
   "source": [
    "\n",
    "输入一个整数数组，判断该数组是不是某二叉搜索树的后序遍历的结果。如果是则输出Yes,否则输出No。假设输入的数组的任意两个数字都互不相同。"
   ]
  },
  {
   "cell_type": "markdown",
   "metadata": {},
   "source": [
    "分析二叉排序树的后序遍历序列，知道最后一个元素为根节点。然后前面的元素可以分为小于根节点的部分（左子树）和大于根节点的部分（右子树）； 在左子树中，最后一个元素为根节点。。。。。递归开始了"
   ]
  },
  {
   "cell_type": "code",
   "execution_count": 19,
   "metadata": {},
   "outputs": [],
   "source": [
    "class Solution:\n",
    "    def VerifySquenceOfBST(self, sequence):\n",
    "        # write code here\n",
    "        if sequence==None or len(sequence)==0:\n",
    "            return False\n",
    "        \n",
    "        return self.recurent_check(sequence)\n",
    "    \n",
    "    def recurent_check(self, sequence):\n",
    "        if sequence == []:\n",
    "            return True\n",
    "        root=sequence.pop()\n",
    "        # 在二叉搜索 树中 左子树节点小于根节点\n",
    "        tag = 0\n",
    "        for i in range(len(sequence)):\n",
    "            if sequence[i]>root:\n",
    "                break\n",
    "            tag += 1\n",
    "        print(tag)\n",
    "        # 二叉搜索树中右子树的节点都大于根节点\n",
    "        for j  in range(tag,len(sequence)):\n",
    "            print(j)\n",
    "            if sequence[j]<root:\n",
    "                return False\n",
    "        # 判断左子树是否为二叉树\n",
    "        print(sequence[:tag],sequence[tag:])\n",
    "        return self.recurent_check(sequence[:tag]) and self.recurent_check(sequence[tag:])\n",
    "            "
   ]
  },
  {
   "cell_type": "code",
   "execution_count": 20,
   "metadata": {},
   "outputs": [
    {
     "name": "stdout",
     "output_type": "stream",
     "text": [
      "4\n",
      "[1, 2, 3, 4] []\n",
      "3\n",
      "[1, 2, 3] []\n",
      "2\n",
      "[1, 2] []\n",
      "1\n",
      "[1] []\n",
      "0\n",
      "[] []\n"
     ]
    },
    {
     "data": {
      "text/plain": [
       "True"
      ]
     },
     "execution_count": 20,
     "metadata": {},
     "output_type": "execute_result"
    }
   ],
   "source": [
    "s = Solution()\n",
    "a = [1,2,3,4,5]\n",
    "s.VerifySquenceOfBST(a)"
   ]
  },
  {
   "cell_type": "code",
   "execution_count": null,
   "metadata": {},
   "outputs": [],
   "source": []
  }
 ],
 "metadata": {
  "kernelspec": {
   "display_name": "Python 3",
   "language": "python",
   "name": "python3"
  },
  "language_info": {
   "codemirror_mode": {
    "name": "ipython",
    "version": 3
   },
   "file_extension": ".py",
   "mimetype": "text/x-python",
   "name": "python",
   "nbconvert_exporter": "python",
   "pygments_lexer": "ipython3",
   "version": "3.7.1"
  }
 },
 "nbformat": 4,
 "nbformat_minor": 2
}
