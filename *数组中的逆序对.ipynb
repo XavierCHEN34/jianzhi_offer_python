{
 "cells": [
  {
   "cell_type": "markdown",
   "metadata": {},
   "source": [
    "# 数组中的逆序对"
   ]
  },
  {
   "cell_type": "markdown",
   "metadata": {},
   "source": [
    "在数组中的两个数字，如果前面一个数字大于后面的数字，则这两个数字组成一个逆序对。输入一个数组,求出这个数组中的逆序对的总数P。并将P对1000000007取模的结果输出。 即输出P%1000000007"
   ]
  },
  {
   "cell_type": "markdown",
   "metadata": {},
   "source": [
    "分析： 这个题目python就是过不了的，有问题。但是思想很好，使用merge sort的方法，在归并的时候,记录逆序对"
   ]
  },
  {
   "cell_type": "code",
   "execution_count": 1,
   "metadata": {},
   "outputs": [],
   "source": [
    "count = 0\n",
    "class Solution:\n",
    "    def InversePairs(self, data):\n",
    "        global count\n",
    "        def MergeSort(lists):\n",
    "            global count\n",
    "            if len(lists) <= 1:\n",
    "                return lists\n",
    "            num = int( len(lists)/2 )\n",
    "            left = MergeSort(lists[:num])\n",
    "            right = MergeSort(lists[num:])\n",
    "            r, l=0, 0\n",
    "            result=[]\n",
    "            while l<len(left) and r<len(right):\n",
    "                if left[l] < right[r]:\n",
    "                    result.append(left[l])\n",
    "                    l += 1\n",
    "                else:\n",
    "                    result.append(right[r])\n",
    "                    r += 1\n",
    "                    count += len(left)-l\n",
    "            result += right[r:]\n",
    "            result += left[l:]\n",
    "            return result\n",
    "        MergeSort(data)\n",
    "        return count%1000000007"
   ]
  },
  {
   "cell_type": "code",
   "execution_count": null,
   "metadata": {},
   "outputs": [],
   "source": []
  }
 ],
 "metadata": {
  "kernelspec": {
   "display_name": "Python 3",
   "language": "python",
   "name": "python3"
  },
  "language_info": {
   "codemirror_mode": {
    "name": "ipython",
    "version": 3
   },
   "file_extension": ".py",
   "mimetype": "text/x-python",
   "name": "python",
   "nbconvert_exporter": "python",
   "pygments_lexer": "ipython3",
   "version": "3.7.1"
  }
 },
 "nbformat": 4,
 "nbformat_minor": 2
}
