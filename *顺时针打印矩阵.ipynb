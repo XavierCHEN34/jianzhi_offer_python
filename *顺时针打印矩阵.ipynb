{
 "cells": [
  {
   "cell_type": "markdown",
   "metadata": {},
   "source": [
    "# 顺时针打印矩阵"
   ]
  },
  {
   "cell_type": "markdown",
   "metadata": {},
   "source": [
    "输入一个矩阵，按照从外向里以顺时针的顺序依次打印出每一个数字，例如，如果输入如下4 X 4矩阵： 1 2 3 4 5 6 7 8 9 10 11 12 13 14 15 16 则依次打印出数字1,2,3,4,8,12,16,15,14,13,9,5,6,7,11,10."
   ]
  },
  {
   "cell_type": "markdown",
   "metadata": {},
   "source": [
    "分析：自然的思路，状态空间搜索，但是时间过慢"
   ]
  },
  {
   "cell_type": "code",
   "execution_count": 17,
   "metadata": {},
   "outputs": [],
   "source": [
    "# -*- coding:utf-8 -*-\n",
    "class Solution:\n",
    "    # matrix类型为二维列表，需要返回列表\n",
    "    \n",
    "    def printMatrix(self, matrix):\n",
    "        h,w = len(matrix), len(matrix[0])\n",
    "        if h == 1:\n",
    "            return matrix[0]\n",
    "        if w == 1:\n",
    "            return [i[0] for i in matrix]\n",
    "        indice_matrix = []\n",
    "        for i in range(h):\n",
    "            row = []\n",
    "            for i in range(w):\n",
    "                row.append(0)\n",
    "            indice_matrix.append(row)\n",
    "        output = [matrix[0][0]]\n",
    "        i,j = 0, 0 \n",
    "        direction = 0\n",
    "        \n",
    "        while sum(sum(i) for i in indice_matrix)  < h * w:\n",
    "            i_n, j_n = self.move(i,j,direction)\n",
    "            if self.passable(i_n,j_n,h,w,indice_matrix):\n",
    "                i, j = i_n, j_n\n",
    "            else:\n",
    "                direction = (direction + 1)  % 4 \n",
    "                i ,j =  self.move(i,j,direction)\n",
    "            self.mark(i,j,indice_matrix)\n",
    "            output.append(matrix[i][j])\n",
    "        return output\n",
    "            \n",
    "            \n",
    "        \n",
    "        \n",
    "        \n",
    "    def passable(self, i, j, h, w, M ):\n",
    "        if i <0 or i > h-1 or j <0 or j > w-1:\n",
    "            return False\n",
    "        if M[i][j] == 1:\n",
    "            return False\n",
    "        else:\n",
    "            return True\n",
    "    \n",
    "    \n",
    "    def mark(self,i,j,M):\n",
    "        M[i][j] =1\n",
    "    \n",
    "    def move(self,i,j,direction):\n",
    "        directions = [\n",
    "           [0,1],\n",
    "           [1,0],\n",
    "           [0,-1],\n",
    "           [-1,0]\n",
    "        ]\n",
    "        return i+directions[direction][0],j+directions[direction][1]\n",
    "        \n",
    "        # write code here"
   ]
  },
  {
   "cell_type": "code",
   "execution_count": 19,
   "metadata": {},
   "outputs": [
    {
     "data": {
      "text/plain": [
       "[1, 2, 3, 4, 8, 12, 16, 15, 14, 13, 9, 5, 1, 2, 6, 10, 9, 5, 6, 7, 11]"
      ]
     },
     "execution_count": 19,
     "metadata": {},
     "output_type": "execute_result"
    }
   ],
   "source": [
    "s = Solution()\n",
    "m = [[1,2,3,4],[5,6,7,8],[9,10,11,12],[13,14,15,16]]\n",
    "s.printMatrix(m)"
   ]
  },
  {
   "cell_type": "markdown",
   "metadata": {},
   "source": [
    "最投机取巧的算法。。。在网上看到的。 可以借鉴的地方是，不用一个元素一个元素的拿取，可以成行成列的拿取，利用好矩阵的性质"
   ]
  },
  {
   "cell_type": "code",
   "execution_count": 21,
   "metadata": {},
   "outputs": [
    {
     "data": {
      "text/plain": [
       "'\\n--------------------- \\n作者：goddaniel \\n来源：CSDN \\n原文：https://blog.csdn.net/u010005281/article/details/79903622 \\n版权声明：本文为博主原创文章，转载请附上博文链接！\\n'"
      ]
     },
     "execution_count": 21,
     "metadata": {},
     "output_type": "execute_result"
    }
   ],
   "source": [
    "def printMatrix(self, matrix):\n",
    "    res = []\n",
    "    while matrix:\n",
    "        res += matrix.pop(0)\n",
    "        if matrix and matrix[0]:\n",
    "            for row in matrix:\n",
    "                res.append(row.pop())\n",
    "        if matrix:\n",
    "            res += matrix.pop()[::-1]\n",
    "        if matrix and matrix[0]:\n",
    "            for row in matrix[::-1]:\n",
    "                res.append(row.pop(0))\n",
    "    return res\n",
    "\n",
    "'''\n",
    "--------------------- \n",
    "作者：goddaniel \n",
    "来源：CSDN \n",
    "原文：https://blog.csdn.net/u010005281/article/details/79903622 \n",
    "版权声明：本文为博主原创文章，转载请附上博文链接！\n",
    "'''"
   ]
  },
  {
   "cell_type": "code",
   "execution_count": null,
   "metadata": {},
   "outputs": [],
   "source": []
  }
 ],
 "metadata": {
  "kernelspec": {
   "display_name": "Python 3",
   "language": "python",
   "name": "python3"
  },
  "language_info": {
   "codemirror_mode": {
    "name": "ipython",
    "version": 3
   },
   "file_extension": ".py",
   "mimetype": "text/x-python",
   "name": "python",
   "nbconvert_exporter": "python",
   "pygments_lexer": "ipython3",
   "version": "3.7.1"
  }
 },
 "nbformat": 4,
 "nbformat_minor": 2
}
