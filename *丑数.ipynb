{
 "cells": [
  {
   "cell_type": "markdown",
   "metadata": {},
   "source": [
    "# 丑数"
   ]
  },
  {
   "cell_type": "markdown",
   "metadata": {},
   "source": [
    "把只包含质因子2、3和5的数称作丑数（Ugly Number）。例如6、8都是丑数，但14不是，因为它包含质因子7。 习惯上我们把1当做是第一个丑数。求按从小到大的顺序的第N个丑数。"
   ]
  },
  {
   "cell_type": "markdown",
   "metadata": {},
   "source": [
    "<script type=\"text/javascript\" src=\"http://cdn.mathjax.org/mathjax/latest/MathJax.js?config=default\"></script>\n",
    "丑数一定满足 $ 2^m 3^m  5^k $ "
   ]
  },
  {
   "cell_type": "code",
   "execution_count": 1,
   "metadata": {},
   "outputs": [
    {
     "data": {
      "text/plain": [
       "[1, 2, 3, 4, 5, 6, 8, 9, 10, 12]"
      ]
     },
     "execution_count": 1,
     "metadata": {},
     "output_type": "execute_result"
    }
   ],
   "source": [
    "def GetUglyNumber_Solution(index):\n",
    "        if index  == 1:\n",
    "            return 1\n",
    "        if index == 0:\n",
    "            return 0\n",
    "        l = [1]\n",
    "        t1,t2,t3 = 0,0,0\n",
    "        for i in range(index-1):\n",
    "            ugly = min(l[t1]*2,l[t2]*3,l[t3]*5)\n",
    "            l.append(ugly)\n",
    "            if ugly == l[t1] *2:\n",
    "                t1 += 1\n",
    "            if ugly == l[t2]*3:\n",
    "                t2 += 1\n",
    "            if ugly == l[t3]*5:\n",
    "                t3 += 1\n",
    "        return l\n",
    "\n",
    "GetUglyNumber_Solution(10)"
   ]
  },
  {
   "cell_type": "code",
   "execution_count": null,
   "metadata": {},
   "outputs": [],
   "source": [
    "\n",
    "        "
   ]
  }
 ],
 "metadata": {
  "kernelspec": {
   "display_name": "Python 3",
   "language": "python",
   "name": "python3"
  },
  "language_info": {
   "codemirror_mode": {
    "name": "ipython",
    "version": 3
   },
   "file_extension": ".py",
   "mimetype": "text/x-python",
   "name": "python",
   "nbconvert_exporter": "python",
   "pygments_lexer": "ipython3",
   "version": "3.7.1"
  }
 },
 "nbformat": 4,
 "nbformat_minor": 2
}
