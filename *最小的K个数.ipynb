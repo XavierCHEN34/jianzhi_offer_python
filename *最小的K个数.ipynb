{
 "cells": [
  {
   "cell_type": "markdown",
   "metadata": {},
   "source": [
    "# 最小的K个数"
   ]
  },
  {
   "cell_type": "markdown",
   "metadata": {},
   "source": [
    "输入n个整数，找出其中最小的K个数。例如输入4,5,1,6,2,7,3,8这8个数字，则最小的4个数字是1,2,3,4,。"
   ]
  },
  {
   "cell_type": "markdown",
   "metadata": {},
   "source": [
    "方法一：直接选一种排序方法，然后取前k个， N(n * log(n))，这里选的快排"
   ]
  },
  {
   "cell_type": "code",
   "execution_count": 1,
   "metadata": {},
   "outputs": [],
   "source": [
    "class Solution:\n",
    "    def GetLeastNumbers_Solution(self, tinput, k):\n",
    "        l, r = 0, len(tinput)-1\n",
    "        if k > len(tinput):\n",
    "            return []\n",
    "        self.quick_sort(tinput,l,r)\n",
    "        return tinput[:k]\n",
    "        \n",
    "    def quick_sort(self, lst, l, r):\n",
    "        if l >= r:\n",
    "            return \n",
    "        pivot = lst[l]\n",
    "        i,j = l,r\n",
    "        while i < j:\n",
    "            while lst[j] >= pivot and i<j :\n",
    "                j -= 1\n",
    "            if i >= j :\n",
    "                    break\n",
    "            lst[i]  = lst[j]\n",
    "            i += 1\n",
    "\n",
    "\n",
    "            while lst[i] <= pivot and i <j :\n",
    "                i += 1\n",
    "            if i >= j :\n",
    "                    break\n",
    "            lst[j]  = lst[i]\n",
    "            j -= 1\n",
    "        lst[i] = pivot\n",
    "        self.quick_sort(lst,l,i-1)\n",
    "        self.quick_sort(lst,i+1,r)"
   ]
  },
  {
   "cell_type": "markdown",
   "metadata": {},
   "source": [
    "方法二： 构建一个只含有k个元素的最大堆，新来的元素如果比顶大，那么直接略过，如果比堆顶小，则把顶换成新元素，之后进行一次向下筛选"
   ]
  },
  {
   "cell_type": "code",
   "execution_count": 29,
   "metadata": {},
   "outputs": [
    {
     "name": "stdout",
     "output_type": "stream",
     "text": [
      "[3, 4, 6, 5, 7, 8]\n",
      "[3, 4, 3, 5, 7, 8, 6]\n",
      "[2, 3, 3, 4, 7, 8, 6, 5]\n"
     ]
    }
   ],
   "source": [
    "class PrioQueque:\n",
    "    #最小堆\n",
    "    def __init__(self, elist = []):\n",
    "        self._elems = list(elist)\n",
    "        if elist:\n",
    "            self.buildheap()\n",
    "            \n",
    "    def dequeque(self):\n",
    "        elems= self._elems\n",
    "        e0 = elems[0]\n",
    "        e = elems.pop()\n",
    "        if len(elems ) >0 :\n",
    "            self.siftdown(e, 0, len(elems))\n",
    "        return e0\n",
    "    \n",
    "        \n",
    "    def siftdown(self, e , begin, end):\n",
    "        elems, i, j = self._elems, begin, begin * 2 + 1\n",
    "        while j < end:\n",
    "            if j+1 < end and  elems[j+1] < elems[j]:\n",
    "                j+=1\n",
    "            if e< elems[j]:\n",
    "                break\n",
    "            elems[i] = elems[j]\n",
    "            i,j  = j, 2*j +1\n",
    "        elems[i] = e\n",
    "    \n",
    "    def buildheap(self):\n",
    "        end = len(self._elems)\n",
    "        for i in range(end//2, -1,-1):\n",
    "            self.siftdown(self._elems[i], i, end)\n",
    "    \n",
    "    \n",
    "    def is_empty(self):\n",
    "        return not self.elems\n",
    "    \n",
    "    def enqueque(self,e):\n",
    "        self._elems.append(None)\n",
    "        self.siftup(e, len(self._elems)-1)\n",
    "        \n",
    "    def siftup(self, e, last):\n",
    "        elems, i, j = self._elems, last , (last -1) //2 \n",
    "        while i > 0 and e < elems[j] :\n",
    "            elems[i] = elems[j]\n",
    "            i,j = j, (j-1)//2\n",
    "        elems[i] = e \n",
    "        \n",
    "        \n",
    "    \n",
    "q = PrioQueque([8,7,6,5,4,3])\n",
    "print(q._elems)\n",
    "q.enqueque(3)\n",
    "print(q._elems)\n",
    "q.enqueque(2)\n",
    "print(q._elems)"
   ]
  },
  {
   "cell_type": "code",
   "execution_count": 31,
   "metadata": {},
   "outputs": [
    {
     "name": "stdout",
     "output_type": "stream",
     "text": [
      "[8, 7, 5, 6, 4, 3]\n",
      "[9, 7, 8, 6, 4, 3, 5]\n",
      "[10, 9, 8, 7, 4, 3, 5, 6]\n"
     ]
    }
   ],
   "source": [
    "class PrioQueque_max:\n",
    "    #最大堆\n",
    "    def __init__(self, elist = []):\n",
    "        self._elems = list(elist)\n",
    "        if elist:\n",
    "            self.buildheap()\n",
    "            \n",
    "    def dequeque(self):\n",
    "        elems= self._elems\n",
    "        e0 = elems[0]\n",
    "        e = elems.pop()\n",
    "        if len(elems ) >0 :\n",
    "            self.siftdown(e, 0, len(elems))\n",
    "        return e0\n",
    "    \n",
    "        \n",
    "    def siftdown(self, e , begin, end):\n",
    "        elems, i, j = self._elems, begin, begin * 2 + 1\n",
    "        while j < end:\n",
    "            if j+1 < end and  elems[j+1] > elems[j]:\n",
    "                j+=1\n",
    "            if e > elems[j]:\n",
    "                break\n",
    "            elems[i] = elems[j]\n",
    "            i,j  = j, 2*j +1\n",
    "        elems[i] = e\n",
    "    \n",
    "    def buildheap(self):\n",
    "        end = len(self._elems)\n",
    "        for i in range(end//2, -1,-1):\n",
    "            self.siftdown(self._elems[i], i, end)\n",
    "    \n",
    "    \n",
    "    def is_empty(self):\n",
    "        return not self.elems\n",
    "    \n",
    "    def enqueque(self,e):\n",
    "        self._elems.append(None)\n",
    "        self.siftup(e, len(self._elems)-1)\n",
    "        \n",
    "    def siftup(self, e, last):\n",
    "        elems, i, j = self._elems, last , (last -1) //2 \n",
    "        while i > 0 and e > elems[j] :\n",
    "            elems[i] = elems[j]\n",
    "            i,j = j, (j-1)//2\n",
    "        elems[i] = e \n",
    "        \n",
    "q = PrioQueque_max([3,4,5,6,7,8])\n",
    "print(q._elems)\n",
    "q.enqueque(9)\n",
    "print(q._elems)\n",
    "q.enqueque(10)\n",
    "print(q._elems)\n",
    "\n"
   ]
  },
  {
   "cell_type": "code",
   "execution_count": null,
   "metadata": {},
   "outputs": [],
   "source": []
  },
  {
   "cell_type": "markdown",
   "metadata": {},
   "source": [
    "方法三，基于快排思想改进的 O（n）方法，可惜牛客要求前k个排号序，导致无法通过, 得在return之前重新把k个元素排序一下"
   ]
  },
  {
   "cell_type": "code",
   "execution_count": 15,
   "metadata": {},
   "outputs": [],
   "source": [
    "class Solution:\n",
    "    def GetLeastNumbers_Solution(self, tinput, k):\n",
    "        l, r = 0, len(tinput)-1\n",
    "        if k > len(tinput):\n",
    "            return []\n",
    "        m = self.partition(tinput, l, r)\n",
    "        \n",
    "        while m != k:\n",
    "            if m < k:\n",
    "                l = m + 1 \n",
    "                m = self.partition(tinput,l,r)\n",
    "            elif m > k:\n",
    "                r = m -1\n",
    "                m = self.partition(tinput,l,r)\n",
    "        return sorted( tinput[:k] ) \n",
    "        \n",
    "    \n",
    "    def partition(self, lst, l, r ):\n",
    "        if l >= r : \n",
    "            return l\n",
    "        pivot = lst[l]\n",
    "        i, j = l, r\n",
    "        while i < j:\n",
    "            while i < j and lst[j] >= pivot:\n",
    "                j -=1\n",
    "            if i >= j: break\n",
    "            lst[i] = lst[j]\n",
    "            i+=1\n",
    "            \n",
    "            while i < j and lst[i] <= pivot:\n",
    "                i += 1\n",
    "            if i >=j :break\n",
    "            lst[j] = lst[i]\n",
    "            j -= 1\n",
    "        lst[i] = pivot\n",
    "        return i"
   ]
  },
  {
   "cell_type": "code",
   "execution_count": 16,
   "metadata": {},
   "outputs": [
    {
     "data": {
      "text/plain": [
       "[1, 2, 3, 4]"
      ]
     },
     "execution_count": 16,
     "metadata": {},
     "output_type": "execute_result"
    }
   ],
   "source": [
    "s = Solution()\n",
    "a = [3,2,5,1,7,8,4,5]\n",
    "s.GetLeastNumbers_Solution(a,4)\n"
   ]
  },
  {
   "cell_type": "code",
   "execution_count": null,
   "metadata": {},
   "outputs": [],
   "source": []
  }
 ],
 "metadata": {
  "kernelspec": {
   "display_name": "Python 3",
   "language": "python",
   "name": "python3"
  },
  "language_info": {
   "codemirror_mode": {
    "name": "ipython",
    "version": 3
   },
   "file_extension": ".py",
   "mimetype": "text/x-python",
   "name": "python",
   "nbconvert_exporter": "python",
   "pygments_lexer": "ipython3",
   "version": "3.7.1"
  }
 },
 "nbformat": 4,
 "nbformat_minor": 2
}
