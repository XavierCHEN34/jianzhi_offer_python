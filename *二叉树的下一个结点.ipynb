{
 "cells": [
  {
   "cell_type": "markdown",
   "metadata": {},
   "source": [
    "# 二叉树的下一个结点"
   ]
  },
  {
   "cell_type": "markdown",
   "metadata": {},
   "source": [
    "\n",
    "给定一个二叉树和其中的一个结点，请找出中序遍历顺序的下一个结点并且返回。注意，树中的结点不仅包含左右子结点，同时包含指向父结点的指针。"
   ]
  },
  {
   "cell_type": "markdown",
   "metadata": {},
   "source": [
    "画图使劲分析，首先要搞懂中序遍历。如果节点P有右节点，那么下一个节点一定是 右节点沿着左边一直下降到底部的节点；\n",
    "如果没有右节点，那么如果节点P是它爸爸的左儿子，由于中序遍历的顺序，下一个节点一定是它爸爸； 如果P是它爸爸的右儿子，那么它的爸爸肯定已经被走过了，它爸爸的左儿子们也肯定都被走过了，于是就沿着他的爸爸向上，知道有一个节点是自己爸爸的左儿子，就返回那个节点的爸爸，如果遇到根节点还没有左爸爸，那就None了"
   ]
  },
  {
   "cell_type": "code",
   "execution_count": 2,
   "metadata": {},
   "outputs": [],
   "source": [
    "class Solution:\n",
    "    def GetNext(self, pNode):\n",
    "        if pNode.right:\n",
    "            r_node = pNode.right\n",
    "            while r_node.left:\n",
    "                r_node = r_node.left\n",
    "            return r_node\n",
    "        father = pNode.next\n",
    "        if father == None:\n",
    "            return None\n",
    "        if father.left == pNode:\n",
    "            return pNode.next\n",
    "        \n",
    "        while father.right == pNode:\n",
    "            pNode = pNode.next\n",
    "            father = father.next\n",
    "            if father == None:\n",
    "                return None\n",
    "        return father"
   ]
  },
  {
   "cell_type": "code",
   "execution_count": null,
   "metadata": {},
   "outputs": [],
   "source": []
  }
 ],
 "metadata": {
  "kernelspec": {
   "display_name": "Python 3",
   "language": "python",
   "name": "python3"
  },
  "language_info": {
   "codemirror_mode": {
    "name": "ipython",
    "version": 3
   },
   "file_extension": ".py",
   "mimetype": "text/x-python",
   "name": "python",
   "nbconvert_exporter": "python",
   "pygments_lexer": "ipython3",
   "version": "3.7.1"
  }
 },
 "nbformat": 4,
 "nbformat_minor": 2
}
