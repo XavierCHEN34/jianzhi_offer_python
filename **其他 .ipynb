{
 "cells": [
  {
   "cell_type": "code",
   "execution_count": 17,
   "metadata": {},
   "outputs": [
    {
     "data": {
      "text/plain": [
       "[1, 1, 2, 4, 8, 15]"
      ]
     },
     "execution_count": 17,
     "metadata": {},
     "output_type": "execute_result"
    }
   ],
   "source": [
    "#算法编程题：台阶一共有n级，每次最低跳1级，最多跳m级，求一共有多少种输出方案\n",
    "def number_solution(n,m):\n",
    "    number = [1,1] \n",
    "    for i in range(2, n+1):\n",
    "        if i < m:     \n",
    "            number.append( sum(number) )\n",
    "        else:\n",
    "            number.append( sum( number[i-m:] ) )         \n",
    "    return number\n",
    "\n",
    "number_solution(5,4)\n",
    "\n"
   ]
  },
  {
   "cell_type": "code",
   "execution_count": 16,
   "metadata": {},
   "outputs": [
    {
     "data": {
      "text/plain": [
       "1.734375"
      ]
     },
     "execution_count": 16,
     "metadata": {},
     "output_type": "execute_result"
    }
   ],
   "source": [
    "#求根号n\n",
    "def f(n):\n",
    "    l,r = 0,n\n",
    "    while l < r:\n",
    "        m = (l + r) /2 \n",
    "        if abs(m * m - n) < 0.01:\n",
    "            return m\n",
    "        if m * m > n:\n",
    "            r = m \n",
    "        if m * m < n:\n",
    "            l = m\n",
    "f(3)       "
   ]
  },
  {
   "cell_type": "code",
   "execution_count": 22,
   "metadata": {},
   "outputs": [
    {
     "name": "stdout",
     "output_type": "stream",
     "text": [
      "[1, 2, 3, 3, 5, 6, 7, 7, 8, 9, 9]\n"
     ]
    }
   ],
   "source": [
    "#快排\n",
    "def quick_sort(lst, l,r ):\n",
    "    if l >= r:\n",
    "        return \n",
    "    i,j = l,r\n",
    "    pivot = lst[i]\n",
    "    while i < j:\n",
    "        while i < j and lst[j] >=  pivot:\n",
    "            j -=1\n",
    "        if i >= j :\n",
    "            break \n",
    "        lst[i] = lst[j]\n",
    "        i+=1\n",
    "        \n",
    "        while i<j and lst[i] < pivot:\n",
    "            i += 1\n",
    "        if i >= j:\n",
    "            break\n",
    "        lst[j] = lst[i]\n",
    "        j-=1\n",
    "    lst[i] = pivot\n",
    "    quick_sort(lst,l,i-1)\n",
    "    quick_sort(lst,i+1,r)\n",
    "\n",
    "a = [9,8,7,6,5,7,9,3,2,1,3]\n",
    "quick_sort(a,0,len(a)-1)\n",
    "print(a)"
   ]
  },
  {
   "cell_type": "code",
   "execution_count": 25,
   "metadata": {},
   "outputs": [
    {
     "data": {
      "text/plain": [
       "[1, 2, 3, 3, 5, 6, 7, 7, 8, 9, 9]"
      ]
     },
     "execution_count": 25,
     "metadata": {},
     "output_type": "execute_result"
    }
   ],
   "source": [
    "#归并排序\n",
    "def merge_sort(lst):\n",
    "    if len(lst) <= 1:\n",
    "        return lst\n",
    "    m = int( len(lst) /2 )\n",
    "    left = merge_sort(lst[:m])\n",
    "    right = merge_sort(lst[m:])\n",
    "    \n",
    "    l,r = 0,0\n",
    "    res = []\n",
    "    while l <= len(left)-1 and r <= len(right)-1:\n",
    "        if left[l] <= right[r]:\n",
    "            res.append( left[l] )\n",
    "            l+=1\n",
    "        else:\n",
    "            res.append( right[r])\n",
    "            r+=1\n",
    "    res += left[l:] \n",
    "    res += right[r:]\n",
    "    return res\n",
    "\n",
    "a = [9,8,7,6,5,7,9,3,2,1,3]\n",
    "merge_sort(a)\n",
    "        "
   ]
  },
  {
   "cell_type": "code",
   "execution_count": 27,
   "metadata": {},
   "outputs": [
    {
     "data": {
      "text/plain": [
       "[1, 1, 2, 3, 5, 8, 13, 21, 34, 55]"
      ]
     },
     "execution_count": 27,
     "metadata": {},
     "output_type": "execute_result"
    }
   ],
   "source": [
    "def fib(n):\n",
    "    lst = [1,1]\n",
    "    while len(lst) < n:\n",
    "        lst.append(sum(lst[-2:]))\n",
    "    return lst\n",
    "fib(10)\n"
   ]
  },
  {
   "cell_type": "code",
   "execution_count": 28,
   "metadata": {},
   "outputs": [],
   "source": [
    "def fib(n):\n",
    "    a, b = 1,1\n",
    "    yield a\n",
    "    yield b\n",
    "    while 1:\n",
    "        c = a +b \n",
    "        yield c\n",
    "        a,b = b,c \n",
    "    "
   ]
  },
  {
   "cell_type": "code",
   "execution_count": 29,
   "metadata": {},
   "outputs": [],
   "source": [
    "f = fib(1)\n"
   ]
  },
  {
   "cell_type": "code",
   "execution_count": 35,
   "metadata": {},
   "outputs": [
    {
     "data": {
      "text/plain": [
       "8"
      ]
     },
     "execution_count": 35,
     "metadata": {},
     "output_type": "execute_result"
    }
   ],
   "source": [
    "next(f)"
   ]
  },
  {
   "cell_type": "code",
   "execution_count": 40,
   "metadata": {},
   "outputs": [
    {
     "data": {
      "text/plain": [
       "[1, 1, 2, 3, 4, 4, 5, 6, 7, 8, 9]"
      ]
     },
     "execution_count": 40,
     "metadata": {},
     "output_type": "execute_result"
    }
   ],
   "source": [
    "def merge_sort(lst):\n",
    "    if len(lst) <= 1:\n",
    "        return lst\n",
    "    m = int(len(lst)/2)\n",
    "    left= merge_sort(lst[:m])\n",
    "    right = merge_sort(lst[m:])\n",
    "    res = []\n",
    "    l,r = 0,0 \n",
    "    while l <= len(left)-1 and r <= len(right)-1:\n",
    "        if left[l] < right[r]:\n",
    "            res.append( left[l])\n",
    "            l+=1\n",
    "        else:\n",
    "            res.append( right[r] )\n",
    "            r+=1\n",
    "    res += left[l:]\n",
    "    res += right[r:]\n",
    "    return res\n",
    "\n",
    "a = [8,9,7,5,4,6,3,1,2,4,1]\n",
    "merge_sort(a)\n",
    "            \n",
    "            \n",
    "            "
   ]
  },
  {
   "cell_type": "code",
   "execution_count": null,
   "metadata": {},
   "outputs": [],
   "source": []
  }
 ],
 "metadata": {
  "kernelspec": {
   "display_name": "Python 3",
   "language": "python",
   "name": "python3"
  },
  "language_info": {
   "codemirror_mode": {
    "name": "ipython",
    "version": 3
   },
   "file_extension": ".py",
   "mimetype": "text/x-python",
   "name": "python",
   "nbconvert_exporter": "python",
   "pygments_lexer": "ipython3",
   "version": "3.7.1"
  }
 },
 "nbformat": 4,
 "nbformat_minor": 2
}
