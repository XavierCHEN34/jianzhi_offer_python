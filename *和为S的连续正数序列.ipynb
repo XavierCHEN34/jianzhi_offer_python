{
 "cells": [
  {
   "cell_type": "markdown",
   "metadata": {},
   "source": [
    "# 和为S的连续正数序列"
   ]
  },
  {
   "cell_type": "markdown",
   "metadata": {},
   "source": [
    "小明很喜欢数学,有一天他在做数学作业时,要求计算出9~16的和,他马上就写出了正确答案是100。但是他并不满足于此,他在想究竟有多少种连续的正数序列的和为100(至少包括两个数)。没多久,他就得到另一组连续正数和为100的序列:18,19,20,21,22。现在把问题交给你,你能不能也很快的找出所有和为S的连续正数序列? Good Luck!"
   ]
  },
  {
   "cell_type": "markdown",
   "metadata": {},
   "source": [
    "分析：我自己的解法，构建一个哈希表 lst_sum[i] 表示，第0-i个自然数的和， O(n)。遍历这个哈希表，比如和为100， 找100+i在不在表里面  "
   ]
  },
  {
   "cell_type": "code",
   "execution_count": 72,
   "metadata": {},
   "outputs": [],
   "source": [
    "class Solution:\n",
    "    def FindContinuousSequence(self, tsum):\n",
    "        res = []\n",
    "        lst = [i for i in range(tsum)]\n",
    "        s = 0\n",
    "        lst_sum = {}\n",
    "        for i in range(len(lst) ):\n",
    "            s += lst[i]\n",
    "            lst_sum[s] = i\n",
    "        #print(lst)\n",
    "        #print(lst_sum)\n",
    "        for i in lst_sum:\n",
    "            if i + tsum in lst_sum:\n",
    "                print( i, i+tsum )\n",
    "                start = lst_sum[i]\n",
    "                end = lst_sum[tsum + i]\n",
    "                if start == end:\n",
    "                    continue\n",
    "                if i == 0:\n",
    "                    res.append(lst[start+1:end+1])\n",
    "                else:\n",
    "                    res.append(lst[start+1:end+1])\n",
    "        return res"
   ]
  },
  {
   "cell_type": "code",
   "execution_count": null,
   "metadata": {},
   "outputs": [],
   "source": []
  },
  {
   "cell_type": "code",
   "execution_count": null,
   "metadata": {},
   "outputs": [],
   "source": []
  }
 ],
 "metadata": {
  "kernelspec": {
   "display_name": "Python 3",
   "language": "python",
   "name": "python3"
  },
  "language_info": {
   "codemirror_mode": {
    "name": "ipython",
    "version": 3
   },
   "file_extension": ".py",
   "mimetype": "text/x-python",
   "name": "python",
   "nbconvert_exporter": "python",
   "pygments_lexer": "ipython3",
   "version": "3.7.1"
  }
 },
 "nbformat": 4,
 "nbformat_minor": 2
}
